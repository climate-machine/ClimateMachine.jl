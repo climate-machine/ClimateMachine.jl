{
 "cells": [
  {
   "cell_type": "markdown",
   "source": [
    "# Acoustic Wave Configuration"
   ],
   "metadata": {}
  },
  {
   "cell_type": "markdown",
   "source": [
    "In this example, we demonstrate the usage of the `ClimateMachine`\n",
    "AtmosModel machinery to solve the fluid\n",
    "dynamics of an acoustic wave."
   ],
   "metadata": {}
  },
  {
   "outputs": [
    {
     "output_type": "execute_result",
     "data": {
      "text/plain": "run_acousticwave (generic function with 1 method)"
     },
     "metadata": {},
     "execution_count": 1
    }
   ],
   "cell_type": "code",
   "source": [
    "using ClimateMachine\n",
    "ClimateMachine.init()\n",
    "using ClimateMachine.Atmos\n",
    "using ClimateMachine.Orientations\n",
    "using ClimateMachine.Checkpoint\n",
    "using ClimateMachine.ConfigTypes\n",
    "using ClimateMachine.TemperatureProfiles\n",
    "using ClimateMachine.Thermodynamics\n",
    "using ClimateMachine.TurbulenceClosures\n",
    "using ClimateMachine.VariableTemplates\n",
    "using ClimateMachine.Grids\n",
    "using ClimateMachine.ODESolvers\n",
    "\n",
    "using CLIMAParameters\n",
    "\n",
    "using StaticArrays\n",
    "\n",
    "struct EarthParameterSet <: AbstractEarthParameterSet end\n",
    "const param_set = EarthParameterSet()\n",
    "\n",
    "Base.@kwdef struct AcousticWaveSetup{FT}\n",
    "    domain_height::FT = 10e3\n",
    "    T_ref::FT = 300\n",
    "    α::FT = 3\n",
    "    γ::FT = 100\n",
    "    nv::Int = 1\n",
    "end\n",
    "\n",
    "function (setup::AcousticWaveSetup)(problem, bl, state, aux, localgeo, t)\n",
    "    # callable to set initial conditions\n",
    "    FT = eltype(state)\n",
    "    param_set = parameter_set(bl)\n",
    "\n",
    "    λ = longitude(bl, aux)\n",
    "    φ = latitude(bl, aux)\n",
    "    z = altitude(bl, aux)\n",
    "\n",
    "    β = min(FT(1), setup.α * acos(cos(φ) * cos(λ)))\n",
    "    f = (1 + cos(FT(π) * β)) / 2\n",
    "    g = sin(setup.nv * FT(π) * z / setup.domain_height)\n",
    "    Δp = setup.γ * f * g\n",
    "    p = aux.ref_state.p + Δp\n",
    "\n",
    "    ts = PhaseDry_pT(param_set, p, setup.T_ref)\n",
    "    q_pt = PhasePartition(ts)\n",
    "    e_pot = gravitational_potential(bl.orientation, aux)\n",
    "    e_int = internal_energy(ts)\n",
    "\n",
    "    state.ρ = air_density(ts)\n",
    "    state.ρu = SVector{3, FT}(0, 0, 0)\n",
    "    state.energy.ρe = state.ρ * (e_int + e_pot)\n",
    "    return nothing\n",
    "end\n",
    "\n",
    "function run_acousticwave(\n",
    "    ode_solver,\n",
    "    CFL::FT,\n",
    "    CFL_direction,\n",
    "    timeend::FT,\n",
    ") where {FT}\n",
    "\n",
    "    # DG polynomial orders\n",
    "    N = (4, 4)\n",
    "\n",
    "    # Domain resolution\n",
    "    nelem_horz = 6\n",
    "    nelem_vert = 4\n",
    "    resolution = (nelem_horz, nelem_vert)\n",
    "\n",
    "    t0 = FT(0)\n",
    "\n",
    "    setup = AcousticWaveSetup{FT}()\n",
    "    T_profile = IsothermalProfile(param_set, setup.T_ref)\n",
    "    ref_state = HydrostaticState(T_profile)\n",
    "    turbulence = ConstantDynamicViscosity(FT(0))\n",
    "    model = AtmosModel{FT}(\n",
    "        AtmosGCMConfigType,\n",
    "        param_set;\n",
    "        init_state_prognostic = setup,\n",
    "        ref_state = ref_state,\n",
    "        turbulence = turbulence,\n",
    "        moisture = DryModel(),\n",
    "        source = (Gravity(),),\n",
    "    )\n",
    "\n",
    "    driver_config = ClimateMachine.AtmosGCMConfiguration(\n",
    "        \"GCM Driver: Acoustic wave test\",\n",
    "        N,\n",
    "        resolution,\n",
    "        setup.domain_height,\n",
    "        param_set,\n",
    "        setup;\n",
    "        solver_type = ode_solver,\n",
    "        model = model,\n",
    "    )\n",
    "\n",
    "    solver_config = ClimateMachine.SolverConfiguration(\n",
    "        t0,\n",
    "        timeend,\n",
    "        driver_config,\n",
    "        Courant_number = CFL,\n",
    "        init_on_cpu = true,\n",
    "        ode_solver_type = ode_solver,\n",
    "        CFL_direction = CFL_direction,\n",
    "    )\n",
    "\n",
    "    ClimateMachine.invoke!(solver_config)\n",
    "end"
   ],
   "metadata": {},
   "execution_count": 1
  },
  {
   "cell_type": "markdown",
   "source": [
    "---\n",
    "\n",
    "*This notebook was generated using [Literate.jl](https://github.com/fredrikekre/Literate.jl).*"
   ],
   "metadata": {}
  }
 ],
 "nbformat_minor": 3,
 "metadata": {
  "language_info": {
   "file_extension": ".jl",
   "mimetype": "application/julia",
   "name": "julia",
   "version": "1.5.4"
  },
  "kernelspec": {
   "name": "julia-1.5",
   "display_name": "Julia 1.5.4",
   "language": "julia"
  }
 },
 "nbformat": 4
}
