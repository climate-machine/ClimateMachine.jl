{
 "cells": [
  {
   "cell_type": "markdown",
   "source": [
    "# Geostrophic adjustment in the hydrostatic Boussinesq equations\n",
    "\n",
    "This example simulates a one-dimensional geostrophic adjustement problem\n",
    "using the `ClimateMachine.Ocean` subcomponent to solve the hydrostatic\n",
    "Boussinesq equations.\n",
    "\n",
    "First we `ClimateMachine.init()`."
   ],
   "metadata": {}
  },
  {
   "outputs": [],
   "cell_type": "code",
   "source": [
    "using ClimateMachine\n",
    "\n",
    "ClimateMachine.init()"
   ],
   "metadata": {},
   "execution_count": 1
  },
  {
   "cell_type": "markdown",
   "source": [
    "# Domain setup\n",
    "\n",
    "We formulate our problem in a Cartesian domain 100 km in ``x, y`` and 400 m\n",
    "deep, and discretized on a grid with 100 fourth-order elements in ``x``, and 1\n",
    "fourth-order element in ``y, z``,"
   ],
   "metadata": {}
  },
  {
   "outputs": [
    {
     "output_type": "execute_result",
     "data": {
      "text/plain": "RectangularDomain{Float64}\n    Np = 4, Ne = (x = 25, y = 1, z = 1)\n    L = (x = 1.0e6, y = 1.0e6, z = 400.0)\n"
     },
     "metadata": {},
     "execution_count": 2
    }
   ],
   "cell_type": "code",
   "source": [
    "using ClimateMachine.Ocean.Domains\n",
    "\n",
    "domain = RectangularDomain(\n",
    "    Ne = (25, 1, 1),\n",
    "    Np = 4,\n",
    "    x = (0, 1e6),\n",
    "    y = (0, 1e6),\n",
    "    z = (-400, 0),\n",
    "    periodicity = (false, true, false),\n",
    ")"
   ],
   "metadata": {},
   "execution_count": 2
  },
  {
   "cell_type": "markdown",
   "source": [
    "# Physical parameters\n",
    "\n",
    "We use a Coriolis parameter appropriate for mid-latitudes,"
   ],
   "metadata": {}
  },
  {
   "outputs": [],
   "cell_type": "code",
   "source": [
    "f = 1e-4 # s⁻¹, Coriolis parameter\n",
    "nothing # hide"
   ],
   "metadata": {},
   "execution_count": 3
  },
  {
   "cell_type": "markdown",
   "source": [
    "and Earth's gravitational acceleration,"
   ],
   "metadata": {}
  },
  {
   "outputs": [
    {
     "output_type": "execute_result",
     "data": {
      "text/plain": "9.81"
     },
     "metadata": {},
     "execution_count": 4
    }
   ],
   "cell_type": "code",
   "source": [
    "using CLIMAParameters: AbstractEarthParameterSet, Planet\n",
    "struct EarthParameters <: AbstractEarthParameterSet end\n",
    "\n",
    "g = Planet.grav(EarthParameters()) # m s⁻²"
   ],
   "metadata": {},
   "execution_count": 4
  },
  {
   "cell_type": "markdown",
   "source": [
    "# An unbalanced initial state\n",
    "\n",
    "We use a Gaussian, partially-balanced initial condition with parameters"
   ],
   "metadata": {}
  },
  {
   "outputs": [
    {
     "output_type": "execute_result",
     "data": {
      "text/plain": "250000.0"
     },
     "metadata": {},
     "execution_count": 5
    }
   ],
   "cell_type": "code",
   "source": [
    "U = 0.1              # geostrophic velocity (m s⁻¹)\n",
    "L = domain.L.x / 40  # Gaussian width (m)\n",
    "a = f * U * L / g    # amplitude of the geostrophic surface displacement (m)\n",
    "x₀ = domain.L.x / 4  # Gaussian origin (m, recall that x ∈ [0, Lx])"
   ],
   "metadata": {},
   "execution_count": 5
  },
  {
   "cell_type": "markdown",
   "source": [
    "and functional form"
   ],
   "metadata": {}
  },
  {
   "outputs": [
    {
     "output_type": "execute_result",
     "data": {
      "text/plain": "ηᵍ (generic function with 1 method)"
     },
     "metadata": {},
     "execution_count": 6
    }
   ],
   "cell_type": "code",
   "source": [
    "Gaussian(x, L) = exp(-x^2 / (2 * L^2))\n",
    "\n",
    "# Geostrophic ``y``-velocity: f V = g ∂_x η\n",
    "vᵍ(x, y, z) = -U * (x - x₀) / L * Gaussian(x - x₀, L)\n",
    "\n",
    "# Geostrophic surface displacement\n",
    "ηᵍ(x, y, z) = a * Gaussian(x - x₀, L)"
   ],
   "metadata": {},
   "execution_count": 6
  },
  {
   "cell_type": "markdown",
   "source": [
    "We double the initial surface displacement so that the surface is half-balanced,\n",
    "half unbalanced,"
   ],
   "metadata": {}
  },
  {
   "outputs": [
    {
     "output_type": "execute_result",
     "data": {
      "text/plain": "ηⁱ (generic function with 1 method)"
     },
     "metadata": {},
     "execution_count": 7
    }
   ],
   "cell_type": "code",
   "source": [
    "ηⁱ(x, y, z) = 2 * ηᵍ(x, y, z)"
   ],
   "metadata": {},
   "execution_count": 7
  },
  {
   "cell_type": "markdown",
   "source": [
    "In summary,"
   ],
   "metadata": {}
  },
  {
   "outputs": [
    {
     "name": "stdout",
     "output_type": "stream",
     "text": [
      "┌ Info:  Parameters for the Geostrophic adjustment problem are...\n",
      "│ \n",
      "│     Coriolis parameter:                            0.0001 s⁻¹\n",
      "│     Gravitational acceleration:                    9.81 m s⁻²\n",
      "│     Geostrophic velocity:                          0.1 m s⁻¹\n",
      "│     Width of the initial geostrophic perturbation: 25000.0 m\n",
      "│     Amplitude of the initial surface perturbation: 0.0254841997961264 m\n",
      "│     Rossby number (U / f L):                       0.04\n",
      "│ \n",
      "└ @ Main.##435 string:5\n"
     ]
    }
   ],
   "cell_type": "code",
   "source": [
    "using ClimateMachine.Ocean.OceanProblems: InitialConditions\n",
    "\n",
    "initial_conditions = InitialConditions(v = vᵍ, η = ηⁱ)\n",
    "\n",
    "@info \"\"\" Parameters for the Geostrophic adjustment problem are...\n",
    "\n",
    "    Coriolis parameter:                            $f s⁻¹\n",
    "    Gravitational acceleration:                    $g m s⁻²\n",
    "    Geostrophic velocity:                          $U m s⁻¹\n",
    "    Width of the initial geostrophic perturbation: $L m\n",
    "    Amplitude of the initial surface perturbation: $a m\n",
    "    Rossby number (U / f L):                       $(U / (f * L))\n",
    "\n",
    "\"\"\""
   ],
   "metadata": {},
   "execution_count": 8
  },
  {
   "cell_type": "markdown",
   "source": [
    "# Boundary conditions, Driver configuration, and Solver configuration\n",
    "\n",
    "Next, we configure the `HydrostaticBoussinesqModel` and build the `DriverConfiguration`.\n",
    "We configure our model in a domain which is bounded in the ``x`` direction.\n",
    "Both the boundary conditions in ``x`` and in ``z`` require boundary conditions,\n",
    "which we define:"
   ],
   "metadata": {}
  },
  {
   "outputs": [
    {
     "output_type": "execute_result",
     "data": {
      "text/plain": "(ClimateMachine.Ocean.OceanBC{ClimateMachine.Ocean.Impenetrable{ClimateMachine.Ocean.FreeSlip},ClimateMachine.Ocean.Insulating}(ClimateMachine.Ocean.Impenetrable{ClimateMachine.Ocean.FreeSlip}(ClimateMachine.Ocean.FreeSlip()), ClimateMachine.Ocean.Insulating()), ClimateMachine.Ocean.OceanBC{ClimateMachine.Ocean.Penetrable{ClimateMachine.Ocean.FreeSlip},ClimateMachine.Ocean.Insulating}(ClimateMachine.Ocean.Penetrable{ClimateMachine.Ocean.FreeSlip}(ClimateMachine.Ocean.FreeSlip()), ClimateMachine.Ocean.Insulating()))"
     },
     "metadata": {},
     "execution_count": 9
    }
   ],
   "cell_type": "code",
   "source": [
    "using ClimateMachine.Ocean:\n",
    "    Impenetrable, Penetrable, FreeSlip, Insulating, OceanBC\n",
    "\n",
    "solid_surface_boundary_conditions = OceanBC(\n",
    "    Impenetrable(FreeSlip()), # Velocity boundary conditions\n",
    "    Insulating(),             # Temperature boundary conditions\n",
    ")\n",
    "\n",
    "free_surface_boundary_conditions = OceanBC(\n",
    "    Penetrable(FreeSlip()),   # Velocity boundary conditions\n",
    "    Insulating(),             # Temperature boundary conditions\n",
    ")\n",
    "\n",
    "boundary_conditions =\n",
    "    (solid_surface_boundary_conditions, free_surface_boundary_conditions)"
   ],
   "metadata": {},
   "execution_count": 9
  },
  {
   "cell_type": "markdown",
   "source": [
    "We refer to these boundary conditions by their indices in the `boundary_tags` tuple\n",
    "when specifying the boundary conditions for the `state`; in other words, \"1\" corresponds to\n",
    "`solid_surface_boundary_conditions`, while `2` corresponds to `free_surface_boundary_conditions`,"
   ],
   "metadata": {}
  },
  {
   "outputs": [
    {
     "output_type": "execute_result",
     "data": {
      "text/plain": "((1, 1), (0, 0), (1, 2))"
     },
     "metadata": {},
     "execution_count": 10
    }
   ],
   "cell_type": "code",
   "source": [
    "boundary_tags = (\n",
    "    (1, 1), # (west, east) boundary conditions\n",
    "    (0, 0), # (south, north) boundary conditions\n",
    "    (1, 2), # (bottom, top) boundary conditions\n",
    ")"
   ],
   "metadata": {},
   "execution_count": 10
  },
  {
   "cell_type": "markdown",
   "source": [
    "We're now ready to build the model."
   ],
   "metadata": {}
  },
  {
   "outputs": [
    {
     "name": "stdout",
     "output_type": "stream",
     "text": [
      "┌ Info: Initializing \n",
      "└ @ ClimateMachine /central/scratch/climaci/climatemachine-docs/1129/climatemachine-docs/src/Driver/solver_configs.jl:169\n"
     ]
    }
   ],
   "cell_type": "code",
   "source": [
    "using ClimateMachine.Ocean\n",
    "\n",
    "model = Ocean.HydrostaticBoussinesqSuperModel(\n",
    "    domain = domain,\n",
    "    time_step = 2.0,\n",
    "    initial_conditions = initial_conditions,\n",
    "    parameters = EarthParameters(),\n",
    "    turbulence_closure = (νʰ = 0, κʰ = 0, νᶻ = 0, κᶻ = 0),\n",
    "    coriolis = (f₀ = f, β = 0),\n",
    "    boundary_tags = boundary_tags,\n",
    "    boundary_conditions = boundary_conditions,\n",
    ");\n",
    "nothing"
   ],
   "metadata": {},
   "execution_count": 11
  },
  {
   "cell_type": "markdown",
   "source": [
    "!!! info \"Horizontallly-periodic boundary conditions\"\n",
    "    To set horizontally-periodic boundary conditions with\n",
    "    `(solid_surface_boundary_conditions, free_surface_boundary_conditions)`\n",
    "    in the vertical direction use `periodicity = (true, true, false)` in\n",
    "    the `domain` constructor and `boundary_tags = ((0, 0), (0, 0), (1, 2))`\n",
    "    in the constructor for `HydrostaticBoussinesqSuperModel`."
   ],
   "metadata": {}
  },
  {
   "cell_type": "markdown",
   "source": [
    "# Animating the solution\n",
    "\n",
    "To animate the `ClimateMachine.Ocean` solution, we'll create a callback\n",
    "that draws a plot and stores it in an array. When the simulation is finished,\n",
    "we'll string together the plotted frames into an animation."
   ],
   "metadata": {}
  },
  {
   "outputs": [
    {
     "output_type": "execute_result",
     "data": {
      "text/plain": "ClimateMachine.GenericCallbacks.EveryXSimulationSteps(Main.##435.var\"#1#2\"(), 200, 0)"
     },
     "metadata": {},
     "execution_count": 12
    }
   ],
   "cell_type": "code",
   "source": [
    "using Printf\n",
    "using Plots\n",
    "using ClimateMachine.GenericCallbacks: EveryXSimulationSteps\n",
    "using ClimateMachine.Ocean.Fields: assemble\n",
    "using ClimateMachine.Ocean: current_step, current_time\n",
    "\n",
    "u, v, η, θ = model.fields\n",
    "\n",
    "# Container to hold the plotted frames\n",
    "movie_plots = []\n",
    "\n",
    "plot_every = 200 # iterations\n",
    "\n",
    "plot_maker = EveryXSimulationSteps(plot_every) do\n",
    "\n",
    "    @info \"Steps: $(current_step(model)), time: $(current_time(model))\"\n",
    "\n",
    "    assembled_u = assemble(u.elements)\n",
    "    assembled_v = assemble(v.elements)\n",
    "    assembled_η = assemble(η.elements)\n",
    "\n",
    "    umax = 0.5 * max(maximum(abs, u), maximum(abs, v))\n",
    "    ulim = (-umax, umax)\n",
    "\n",
    "    u_plot = plot(\n",
    "        assembled_u.x[:, 1, 1],\n",
    "        [assembled_u.data[:, 1, 1] assembled_v.data[:, 1, 1]],\n",
    "        xlim = domain.x,\n",
    "        ylim = (-0.7U, 0.7U),\n",
    "        label = [\"u\" \"v\"],\n",
    "        linewidth = 2,\n",
    "        xlabel = \"x (m)\",\n",
    "        ylabel = \"Velocities (m s⁻¹)\",\n",
    "    )\n",
    "\n",
    "    η_plot = plot(\n",
    "        assembled_η.x[:, 1, 1],\n",
    "        assembled_η.data[:, 1, 1],\n",
    "        xlim = domain.x,\n",
    "        ylim = (-0.01a, 1.2a),\n",
    "        linewidth = 2,\n",
    "        label = nothing,\n",
    "        xlabel = \"x (m)\",\n",
    "        ylabel = \"η (m)\",\n",
    "    )\n",
    "\n",
    "    push!(movie_plots, (u = u_plot, η = η_plot, time = current_time(model)))\n",
    "\n",
    "    return nothing\n",
    "end"
   ],
   "metadata": {},
   "execution_count": 12
  },
  {
   "cell_type": "markdown",
   "source": [
    "# Running the simulation and animating the results\n",
    "\n",
    "Finally, we run the simulation,"
   ],
   "metadata": {}
  },
  {
   "outputs": [
    {
     "name": "stdout",
     "output_type": "stream",
     "text": [
      "┌ Info: Starting \n",
      "│     dt              = 2.00000e+00\n",
      "│     timeend         =  7200.00\n",
      "│     number of steps = 1\n",
      "│     norm(Q)         = 3.6697037949282315e+05\n",
      "└ @ ClimateMachine /central/scratch/climaci/climatemachine-docs/1129/climatemachine-docs/src/Driver/Driver.jl:783\n",
      "┌ Info: Steps: 200, time: 400.0\n",
      "└ @ Main.##435 string:16\n",
      "┌ Info: Steps: 400, time: 800.0\n",
      "└ @ Main.##435 string:16\n",
      "┌ Info: Steps: 600, time: 1200.0\n",
      "└ @ Main.##435 string:16\n",
      "┌ Info: Steps: 800, time: 1600.0\n",
      "└ @ Main.##435 string:16\n",
      "┌ Info: Steps: 1000, time: 2000.0\n",
      "└ @ Main.##435 string:16\n",
      "┌ Info: Steps: 1200, time: 2400.0\n",
      "└ @ Main.##435 string:16\n",
      "┌ Info: Steps: 1400, time: 2800.0\n",
      "└ @ Main.##435 string:16\n",
      "┌ Info: Steps: 1600, time: 3200.0\n",
      "└ @ Main.##435 string:16\n",
      "┌ Info: Steps: 1800, time: 3600.0\n",
      "└ @ Main.##435 string:16\n",
      "┌ Info: Steps: 2000, time: 4000.0\n",
      "└ @ Main.##435 string:16\n",
      "┌ Info: Steps: 2200, time: 4400.0\n",
      "└ @ Main.##435 string:16\n",
      "┌ Info: Steps: 2400, time: 4800.0\n",
      "└ @ Main.##435 string:16\n",
      "┌ Info: Steps: 2600, time: 5200.0\n",
      "└ @ Main.##435 string:16\n",
      "┌ Info: Steps: 2800, time: 5600.0\n",
      "└ @ Main.##435 string:16\n",
      "┌ Info: Steps: 3000, time: 6000.0\n",
      "└ @ Main.##435 string:16\n",
      "┌ Info: Steps: 3200, time: 6400.0\n",
      "└ @ Main.##435 string:16\n",
      "┌ Info: Steps: 3400, time: 6800.0\n",
      "└ @ Main.##435 string:16\n",
      "┌ Info: Steps: 3600, time: 7200.0\n",
      "└ @ Main.##435 string:16\n",
      "┌ Info: Finished\n",
      "│     norm(Q)            = 3.3365939327117807e+05\n",
      "│     norm(Q) / norm(Q₀) = 9.0922704369850493e-01\n",
      "│     norm(Q) - norm(Q₀) = -3.3310986221645086e+04\n",
      "└ @ ClimateMachine /central/scratch/climaci/climatemachine-docs/1129/climatemachine-docs/src/Driver/Driver.jl:834\n"
     ]
    },
    {
     "output_type": "execute_result",
     "data": {
      "text/plain": "0.9092270436985049"
     },
     "metadata": {},
     "execution_count": 13
    }
   ],
   "cell_type": "code",
   "source": [
    "hours = 3600.0\n",
    "\n",
    "model.solver_configuration.timeend = 2hours\n",
    "\n",
    "result = ClimateMachine.invoke!(\n",
    "    model.solver_configuration;\n",
    "    user_callbacks = [plot_maker],\n",
    ")"
   ],
   "metadata": {},
   "execution_count": 13
  },
  {
   "cell_type": "markdown",
   "source": [
    "and animate the results,"
   ],
   "metadata": {}
  },
  {
   "outputs": [
    {
     "name": "stdout",
     "output_type": "stream",
     "text": [
      "┌ Info: Saved animation to \n",
      "│   fn = /central/scratch/climaci/climatemachine-docs/1129/climatemachine-docs/docs/src/generated/Ocean/geostrophic_adjustment.mp4\n",
      "└ @ Plots /central/scratch/climaci/climatemachine-docs/1129/depot/cpu/packages/Plots/z5Msu/src/animation.jl:104\n"
     ]
    },
    {
     "output_type": "execute_result",
     "data": {
      "text/plain": "Plots.AnimatedGif(\"/central/scratch/climaci/climatemachine-docs/1129/climatemachine-docs/docs/src/generated/Ocean/geostrophic_adjustment.mp4\")",
      "text/html": [
       "<video controls><source src=\"data:video/mp4;base64,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\" type = \"video/mp4\"></video>"
      ]
     },
     "metadata": {},
     "execution_count": 14
    }
   ],
   "cell_type": "code",
   "source": [
    "animation = @animate for p in movie_plots\n",
    "    title = @sprintf(\"Geostrophic adjustment at t = %.2f hours\", p.time / hours)\n",
    "    frame = plot(\n",
    "        p.u,\n",
    "        p.η,\n",
    "        layout = (2, 1),\n",
    "        size = (800, 600),\n",
    "        title = [title \"\"],\n",
    "    )\n",
    "end\n",
    "\n",
    "gif(animation, \"geostrophic_adjustment.mp4\", fps = 5) # hide"
   ],
   "metadata": {},
   "execution_count": 14
  },
  {
   "cell_type": "markdown",
   "source": [
    "---\n",
    "\n",
    "*This notebook was generated using [Literate.jl](https://github.com/fredrikekre/Literate.jl).*"
   ],
   "metadata": {}
  }
 ],
 "nbformat_minor": 3,
 "metadata": {
  "language_info": {
   "file_extension": ".jl",
   "mimetype": "application/julia",
   "name": "julia",
   "version": "1.5.4"
  },
  "kernelspec": {
   "name": "julia-1.5",
   "display_name": "Julia 1.5.4",
   "language": "julia"
  }
 },
 "nbformat": 4
}
