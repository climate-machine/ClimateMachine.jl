{
 "cells": [
  {
   "cell_type": "markdown",
   "source": [
    "# Mode-1 internal wave reflection\n",
    "\n",
    "This example simulates the propagation of a mode-1 internal wave\n",
    "using the `ClimateMachine.Ocean` subcomponent to solve the hydrostatic\n",
    "Boussinesq equations.\n",
    "\n",
    "First we `ClimateMachine.init()`."
   ],
   "metadata": {}
  },
  {
   "outputs": [],
   "cell_type": "code",
   "source": [
    "using ClimateMachine\n",
    "\n",
    "ClimateMachine.init()"
   ],
   "metadata": {},
   "execution_count": 1
  },
  {
   "cell_type": "markdown",
   "source": [
    "# Domain setup\n",
    "\n",
    "We formulate a non-dimension problem in a Cartesian domain with oceanic anisotropy,"
   ],
   "metadata": {}
  },
  {
   "outputs": [
    {
     "output_type": "execute_result",
     "data": {
      "text/plain": "RectangularDomain{Float64}\n    Np = 4, Ne = (x = 32, y = 1, z = 4)\n    L = (x = 256.0, y = 256.0, z = 1.0)\n"
     },
     "metadata": {},
     "execution_count": 2
    }
   ],
   "cell_type": "code",
   "source": [
    "using ClimateMachine.Ocean.Domains\n",
    "\n",
    "domain = RectangularDomain(\n",
    "    Ne = (32, 1, 4),\n",
    "    Np = 4,\n",
    "    x = (-128, 128),\n",
    "    y = (-128, 128),\n",
    "    z = (-1, 0),\n",
    "    periodicity = (false, false, false),\n",
    ")"
   ],
   "metadata": {},
   "execution_count": 2
  },
  {
   "cell_type": "markdown",
   "source": [
    "# Parameters\n",
    "\n",
    "We choose parameters appropriate for a hydrostatic internal wave,"
   ],
   "metadata": {}
  },
  {
   "cell_type": "markdown",
   "source": [
    "Non-dimensional internal wave parameters"
   ],
   "metadata": {}
  },
  {
   "outputs": [
    {
     "output_type": "execute_result",
     "data": {
      "text/plain": "10"
     },
     "metadata": {},
     "execution_count": 3
    }
   ],
   "cell_type": "code",
   "source": [
    "f = 1  # Coriolis\n",
    "N = 10 # Buoyancy frequency"
   ],
   "metadata": {},
   "execution_count": 3
  },
  {
   "cell_type": "markdown",
   "source": [
    "Note that the validity of the hydrostatic approximation requires\n",
    "small aspect ratio motions with ``k / m \\\\ll 1``.\n",
    "The hydrostatic dispersion relation for inertia-gravity waves then implies that"
   ],
   "metadata": {}
  },
  {
   "outputs": [
    {
     "output_type": "execute_result",
     "data": {
      "text/plain": "2.692582403567252"
     },
     "metadata": {},
     "execution_count": 4
    }
   ],
   "cell_type": "code",
   "source": [
    "λ = 8      # horizontal wave-length\n",
    "k = 2π / λ # horizontal wavenumber\n",
    "m = π\n",
    "\n",
    "ω² = f^2 + N^2 * k^2 / m^2 # and\n",
    "\n",
    "ω = √(ω²)"
   ],
   "metadata": {},
   "execution_count": 4
  },
  {
   "cell_type": "markdown",
   "source": [
    "# Internal wave initial condition\n",
    "\n",
    "We impose modest gravitational acceleration to render time-stepping feasible,"
   ],
   "metadata": {}
  },
  {
   "outputs": [],
   "cell_type": "code",
   "source": [
    "using CLIMAParameters: AbstractEarthParameterSet, Planet\n",
    "struct NonDimensionalParameters <: AbstractEarthParameterSet end\n",
    "\n",
    "Planet.grav(::NonDimensionalParameters) = 256.0"
   ],
   "metadata": {},
   "execution_count": 5
  },
  {
   "cell_type": "markdown",
   "source": [
    "we'd like to use `θ` as a buoyancy variable, which requires\n",
    "setting the thermal expansion coefficient ``αᵀ`` to"
   ],
   "metadata": {}
  },
  {
   "outputs": [
    {
     "output_type": "execute_result",
     "data": {
      "text/plain": "0.00390625"
     },
     "metadata": {},
     "execution_count": 6
    }
   ],
   "cell_type": "code",
   "source": [
    "g = Planet.grav(NonDimensionalParameters())\n",
    "\n",
    "αᵀ = 1 / g"
   ],
   "metadata": {},
   "execution_count": 6
  },
  {
   "cell_type": "markdown",
   "source": [
    "We then use the \"polarization relations\" for vertically-standing, horizontally-\n",
    "propagating hydrostatic internal waves to initialze two wave packets.\n",
    "The hydrostatic polarization relations require\n",
    "\n",
    "$$\n",
    "\\begin{gather}\n",
    "(∂_t^2 + f^2) u = - ∂_x ∂_t p\n",
    "∂_t v = - f u\n",
    "b = ∂_z p\n",
    "\\end{gather}\n",
    "$$\n",
    "\n",
    "Thus given ``p = \\cos (k x - ω t) \\cos (m z)``, we find"
   ],
   "metadata": {}
  },
  {
   "outputs": [
    {
     "output_type": "execute_result",
     "data": {
      "text/plain": "ClimateMachine.Ocean.OceanProblems.InitialConditions{typeof(Main.##474.uᵢ),typeof(Main.##474.vᵢ),typeof(Main.##474.θᵢ),typeof(ClimateMachine.Ocean.OceanProblems.resting)}(Main.##474.uᵢ, Main.##474.vᵢ, Main.##474.θᵢ, ClimateMachine.Ocean.OceanProblems.resting)"
     },
     "metadata": {},
     "execution_count": 7
    }
   ],
   "cell_type": "code",
   "source": [
    "δ = domain.L.x / 15\n",
    "a(x) = 1e-6 * exp(-x^2 / 2 * δ^2)\n",
    "\n",
    "ũ(x, z, t) = +a(x) * ω * sin(k * x - ω * t) * cos(m * z)\n",
    "ṽ(x, z, t) = -a(x) * f * cos(k * x - ω * t) * cos(m * z)\n",
    "θ̃(x, z, t) = -a(x) * m / k * (ω^2 - f^2) * sin(k * x - ω * t) * sin(m * z)\n",
    "\n",
    "uᵢ(x, y, z) = ũ(x, z, 0)\n",
    "vᵢ(x, y, z) = ṽ(x, z, 0)\n",
    "θᵢ(x, y, z) = θ̃(x, z, 0) + N^2 * z\n",
    "\n",
    "using ClimateMachine.Ocean.OceanProblems: InitialConditions\n",
    "\n",
    "initial_conditions = InitialConditions(u = uᵢ, v = vᵢ, θ = θᵢ)"
   ],
   "metadata": {},
   "execution_count": 7
  },
  {
   "cell_type": "markdown",
   "source": [
    "# Model configuration\n",
    "\n",
    "We choose a time-step that resolves the gravity wave phase speed,"
   ],
   "metadata": {}
  },
  {
   "outputs": [
    {
     "output_type": "execute_result",
     "data": {
      "text/plain": "0.005"
     },
     "metadata": {},
     "execution_count": 8
    }
   ],
   "cell_type": "code",
   "source": [
    "time_step = 0.005 # close to Δx / c = 0.5 * 1/16, where Δx is nominal resolution"
   ],
   "metadata": {},
   "execution_count": 8
  },
  {
   "cell_type": "markdown",
   "source": [
    "and build a model with a smidgeon of viscosity and diffusion,"
   ],
   "metadata": {}
  },
  {
   "outputs": [
    {
     "name": "stdout",
     "output_type": "stream",
     "text": [
      "┌ Info: Initializing \n",
      "└ @ ClimateMachine /central/scratch/climaci/climatemachine-docs/1129/climatemachine-docs/src/Driver/solver_configs.jl:169\n"
     ]
    }
   ],
   "cell_type": "code",
   "source": [
    "using ClimateMachine.Ocean: HydrostaticBoussinesqSuperModel\n",
    "\n",
    "model = HydrostaticBoussinesqSuperModel(\n",
    "    domain = domain,\n",
    "    time_step = time_step,\n",
    "    initial_conditions = initial_conditions,\n",
    "    parameters = NonDimensionalParameters(),\n",
    "    turbulence_closure = (νʰ = 1e-6, νᶻ = 1e-6, κʰ = 1e-6, κᶻ = 1e-6),\n",
    "    coriolis = (f₀ = f, β = 0),\n",
    "    buoyancy = (αᵀ = αᵀ,),\n",
    "    boundary_tags = ((1, 1), (1, 1), (1, 2)),\n",
    ");\n",
    "nothing"
   ],
   "metadata": {},
   "execution_count": 9
  },
  {
   "cell_type": "markdown",
   "source": [
    "# Fetching data for an animation\n",
    "\n",
    "To animate the `ClimateMachine.Ocean` solution, we assemble and\n",
    "cache the horizontal velocity ``u`` at periodic intervals:"
   ],
   "metadata": {}
  },
  {
   "outputs": [
    {
     "output_type": "execute_result",
     "data": {
      "text/plain": "ClimateMachine.GenericCallbacks.EveryXSimulationTime(Main.##474.var\"#1#2\"(), 0.46670328817831874, 0)"
     },
     "metadata": {},
     "execution_count": 10
    }
   ],
   "cell_type": "code",
   "source": [
    "using ClimateMachine.Ocean: current_time\n",
    "using ClimateMachine.Ocean.Fields: assemble\n",
    "using ClimateMachine.GenericCallbacks: EveryXSimulationTime\n",
    "\n",
    "fetched_states = []\n",
    "fetch_every = 0.2 * 2π / ω # time\n",
    "\n",
    "data_fetcher = EveryXSimulationTime(fetch_every) do\n",
    "    push!(\n",
    "        fetched_states,\n",
    "        (\n",
    "            u = assemble(model.fields.u.elements),\n",
    "            θ = assemble(model.fields.θ.elements),\n",
    "            η = assemble(model.fields.η.elements),\n",
    "            time = current_time(model),\n",
    "        ),\n",
    "    )\n",
    "    return nothing\n",
    "end"
   ],
   "metadata": {},
   "execution_count": 10
  },
  {
   "cell_type": "markdown",
   "source": [
    "We also build a callback to log the progress of our simulation,"
   ],
   "metadata": {}
  },
  {
   "outputs": [
    {
     "output_type": "execute_result",
     "data": {
      "text/plain": "ClimateMachine.GenericCallbacks.EveryXSimulationSteps(Main.##474.var\"#3#4\"(), 100, 0)"
     },
     "metadata": {},
     "execution_count": 11
    }
   ],
   "cell_type": "code",
   "source": [
    "using Printf\n",
    "using ClimateMachine.GenericCallbacks: EveryXSimulationSteps\n",
    "using ClimateMachine.Ocean: current_time, current_step, Δt\n",
    "\n",
    "print_every = 100 # iterations\n",
    "wall_clock = [time_ns()]\n",
    "\n",
    "tiny_progress_printer = EveryXSimulationSteps(print_every) do\n",
    "\n",
    "    @info(@sprintf(\n",
    "        \"Steps: %d, time: %.2f, Δt: %.2f, max(|u|): %.2e, elapsed time: %.2f secs\",\n",
    "        current_step(model),\n",
    "        current_time(model),\n",
    "        Δt(model),\n",
    "        maximum(abs, model.fields.u),\n",
    "        1e-9 * (time_ns() - wall_clock[1])\n",
    "    ))\n",
    "\n",
    "    wall_clock[1] = time_ns()\n",
    "end"
   ],
   "metadata": {},
   "execution_count": 11
  },
  {
   "cell_type": "markdown",
   "source": [
    "# Running the simulation and animating the results\n",
    "\n",
    "We're ready to launch."
   ],
   "metadata": {}
  },
  {
   "outputs": [
    {
     "name": "stdout",
     "output_type": "stream",
     "text": [
      "┌ Info:  Simulating a hydrostatic Gaussian wave packet with parameters\n",
      "│ \n",
      "│     f (Coriolis parameter):       1\n",
      "│     N (buoyancy frequency):       10\n",
      "│     Internal wave frequency:      2.692582403567252\n",
      "│     Surface wave frequency:       12.566370614359172\n",
      "│     Surface wave group velocity:  16.0\n",
      "│     Internal wave group velocity: 9.284766908852594\n",
      "│     Domain width:                 256.0\n",
      "│     Domain height:                1.0\n",
      "│ \n",
      "└ @ Main.##474 string:4\n",
      "┌ Info: Starting \n",
      "│     dt              = 5.00000e-03\n",
      "│     timeend         =    14.00\n",
      "│     number of steps = 1\n",
      "│     norm(Q)         = 1.4780166891254394e+04\n",
      "└ @ ClimateMachine /central/scratch/climaci/climatemachine-docs/1129/climatemachine-docs/src/Driver/Driver.jl:783\n",
      "┌ Info: Steps: 100, time: 0.50, Δt: 0.01, max(|u|): 2.54e-07, elapsed time: 24.52 secs\n",
      "└ @ Main.##474 string:10\n",
      "┌ Info: Steps: 200, time: 1.00, Δt: 0.01, max(|u|): 1.54e-07, elapsed time: 2.28 secs\n",
      "└ @ Main.##474 string:10\n",
      "┌ Info: Steps: 300, time: 1.50, Δt: 0.01, max(|u|): 2.56e-07, elapsed time: 2.13 secs\n",
      "└ @ Main.##474 string:10\n",
      "┌ Info: Steps: 400, time: 2.00, Δt: 0.01, max(|u|): 1.23e-07, elapsed time: 2.16 secs\n",
      "└ @ Main.##474 string:10\n",
      "┌ Info: Steps: 500, time: 2.50, Δt: 0.01, max(|u|): 1.10e-07, elapsed time: 2.24 secs\n",
      "└ @ Main.##474 string:10\n",
      "┌ Info: Steps: 600, time: 3.00, Δt: 0.01, max(|u|): 1.04e-07, elapsed time: 2.13 secs\n",
      "└ @ Main.##474 string:10\n",
      "┌ Info: Steps: 700, time: 3.50, Δt: 0.01, max(|u|): 1.19e-07, elapsed time: 2.11 secs\n",
      "└ @ Main.##474 string:10\n",
      "┌ Info: Steps: 800, time: 4.00, Δt: 0.01, max(|u|): 8.99e-08, elapsed time: 2.19 secs\n",
      "└ @ Main.##474 string:10\n",
      "┌ Info: Steps: 900, time: 4.50, Δt: 0.01, max(|u|): 1.28e-07, elapsed time: 2.09 secs\n",
      "└ @ Main.##474 string:10\n",
      "┌ Info: Steps: 1000, time: 5.00, Δt: 0.01, max(|u|): 1.39e-07, elapsed time: 2.09 secs\n",
      "└ @ Main.##474 string:10\n",
      "┌ Info: Steps: 1100, time: 5.50, Δt: 0.01, max(|u|): 1.26e-07, elapsed time: 2.12 secs\n",
      "└ @ Main.##474 string:10\n",
      "┌ Info: Steps: 1200, time: 6.00, Δt: 0.01, max(|u|): 1.03e-07, elapsed time: 2.16 secs\n",
      "└ @ Main.##474 string:10\n",
      "┌ Info: Steps: 1300, time: 6.50, Δt: 0.01, max(|u|): 6.65e-08, elapsed time: 2.15 secs\n",
      "└ @ Main.##474 string:10\n",
      "┌ Info: Steps: 1400, time: 7.00, Δt: 0.01, max(|u|): 1.37e-07, elapsed time: 2.20 secs\n",
      "└ @ Main.##474 string:10\n",
      "┌ Info: Steps: 1500, time: 7.50, Δt: 0.01, max(|u|): 8.29e-08, elapsed time: 2.17 secs\n",
      "└ @ Main.##474 string:10\n",
      "┌ Info: Steps: 1600, time: 8.00, Δt: 0.01, max(|u|): 7.20e-08, elapsed time: 2.24 secs\n",
      "└ @ Main.##474 string:10\n",
      "┌ Info: Steps: 1700, time: 8.50, Δt: 0.01, max(|u|): 7.33e-08, elapsed time: 2.16 secs\n",
      "└ @ Main.##474 string:10\n",
      "┌ Info: Update\n",
      "│     simtime =     8.74 /    14.00\n",
      "│     wallclock = 00:01:00\n",
      "│     efficiency (simtime / wallclock) =   0.1456\n",
      "│     wallclock end (estimated) = 00:01:36\n",
      "│     norm(Q) = 1.4779775460118432e+04\n",
      "└ @ ClimateMachine.Callbacks /central/scratch/climaci/climatemachine-docs/1129/climatemachine-docs/src/Driver/Callbacks/Callbacks.jl:75\n",
      "┌ Info: Steps: 1800, time: 9.00, Δt: 0.01, max(|u|): 1.09e-07, elapsed time: 2.18 secs\n",
      "└ @ Main.##474 string:10\n",
      "┌ Info: Steps: 1900, time: 9.50, Δt: 0.01, max(|u|): 7.96e-08, elapsed time: 2.24 secs\n",
      "└ @ Main.##474 string:10\n",
      "┌ Info: Steps: 2000, time: 10.00, Δt: 0.01, max(|u|): 9.98e-08, elapsed time: 2.19 secs\n",
      "└ @ Main.##474 string:10\n",
      "┌ Info: Steps: 2100, time: 10.50, Δt: 0.01, max(|u|): 8.89e-08, elapsed time: 2.16 secs\n",
      "└ @ Main.##474 string:10\n",
      "┌ Info: Steps: 2200, time: 11.00, Δt: 0.01, max(|u|): 1.17e-07, elapsed time: 2.22 secs\n",
      "└ @ Main.##474 string:10\n",
      "┌ Info: Steps: 2300, time: 11.50, Δt: 0.01, max(|u|): 1.06e-07, elapsed time: 2.20 secs\n",
      "└ @ Main.##474 string:10\n",
      "┌ Info: Steps: 2400, time: 12.00, Δt: 0.01, max(|u|): 7.91e-08, elapsed time: 2.24 secs\n",
      "└ @ Main.##474 string:10\n",
      "┌ Info: Steps: 2500, time: 12.50, Δt: 0.01, max(|u|): 1.06e-07, elapsed time: 2.20 secs\n",
      "└ @ Main.##474 string:10\n",
      "┌ Info: Steps: 2600, time: 13.00, Δt: 0.01, max(|u|): 7.81e-08, elapsed time: 2.19 secs\n",
      "└ @ Main.##474 string:10\n",
      "┌ Info: Steps: 2700, time: 13.50, Δt: 0.01, max(|u|): 8.66e-08, elapsed time: 2.25 secs\n",
      "└ @ Main.##474 string:10\n",
      "┌ Info: Steps: 2800, time: 14.00, Δt: 0.01, max(|u|): 7.43e-08, elapsed time: 2.20 secs\n",
      "└ @ Main.##474 string:10\n",
      "┌ Info: Finished\n",
      "│     norm(Q)            = 1.4779539437002144e+04\n",
      "│     norm(Q) / norm(Q₀) = 9.9995754755295618e-01\n",
      "│     norm(Q) - norm(Q₀) = -6.2745425224966311e-01\n",
      "└ @ ClimateMachine /central/scratch/climaci/climatemachine-docs/1129/climatemachine-docs/src/Driver/Driver.jl:834\n"
     ]
    },
    {
     "output_type": "execute_result",
     "data": {
      "text/plain": "0.9999575475529562"
     },
     "metadata": {},
     "execution_count": 12
    }
   ],
   "cell_type": "code",
   "source": [
    "model.solver_configuration.timeend = 6 * 2π / ω\n",
    "# model.solver.dt = 0.05 # make this work\n",
    "\n",
    "@info \"\"\" Simulating a hydrostatic Gaussian wave packet with parameters\n",
    "\n",
    "    f (Coriolis parameter):       $f\n",
    "    N (buoyancy frequency):       $N\n",
    "    Internal wave frequency:      $(abs(ω))\n",
    "    Surface wave frequency:       $(k * sqrt(g * domain.L.z))\n",
    "    Surface wave group velocity:  $(sqrt(g * domain.L.z))\n",
    "    Internal wave group velocity: $(N^2 * k / (ω * m))\n",
    "    Domain width:                 $(domain.L.x)\n",
    "    Domain height:                $(domain.L.z)\n",
    "\n",
    "\"\"\"\n",
    "\n",
    "result = ClimateMachine.invoke!(\n",
    "    model.solver_configuration;\n",
    "    user_callbacks = [tiny_progress_printer, data_fetcher],\n",
    ")"
   ],
   "metadata": {},
   "execution_count": 12
  },
  {
   "cell_type": "markdown",
   "source": [
    "# Animating the result\n",
    "\n",
    "We first analye the results to generate plotting limits and contour levels"
   ],
   "metadata": {}
  },
  {
   "outputs": [
    {
     "output_type": "execute_result",
     "data": {
      "text/plain": "-2.2110987101884194e-7:1.4740658067922796e-8:2.2110987101884194e-7"
     },
     "metadata": {},
     "execution_count": 13
    }
   ],
   "cell_type": "code",
   "source": [
    "ηmax = maximum([maximum(abs, state.η.data) for state in fetched_states])\n",
    "umax = maximum([maximum(abs, state.u.data) for state in fetched_states])\n",
    "\n",
    "ηlim = (-ηmax, ηmax)\n",
    "ulim = (-umax, umax)\n",
    "ulevels = range(ulim[1], ulim[2], length = 31)"
   ],
   "metadata": {},
   "execution_count": 13
  },
  {
   "cell_type": "markdown",
   "source": [
    "and then animate both fields in a loop,"
   ],
   "metadata": {}
  },
  {
   "outputs": [
    {
     "name": "stdout",
     "output_type": "stream",
     "text": [
      "┌ Info: Plotting frame 1 of 29...\n",
      "└ @ Main.##474 string:4\n",
      "┌ Info: Plotting frame 2 of 29...\n",
      "└ @ Main.##474 string:4\n",
      "┌ Info: Plotting frame 3 of 29...\n",
      "└ @ Main.##474 string:4\n",
      "┌ Info: Plotting frame 4 of 29...\n",
      "└ @ Main.##474 string:4\n",
      "┌ Info: Plotting frame 5 of 29...\n",
      "└ @ Main.##474 string:4\n",
      "┌ Info: Plotting frame 6 of 29...\n",
      "└ @ Main.##474 string:4\n",
      "┌ Info: Plotting frame 7 of 29...\n",
      "└ @ Main.##474 string:4\n",
      "┌ Info: Plotting frame 8 of 29...\n",
      "└ @ Main.##474 string:4\n",
      "┌ Info: Plotting frame 9 of 29...\n",
      "└ @ Main.##474 string:4\n",
      "┌ Info: Plotting frame 10 of 29...\n",
      "└ @ Main.##474 string:4\n",
      "┌ Info: Plotting frame 11 of 29...\n",
      "└ @ Main.##474 string:4\n",
      "┌ Info: Plotting frame 12 of 29...\n",
      "└ @ Main.##474 string:4\n",
      "┌ Info: Plotting frame 13 of 29...\n",
      "└ @ Main.##474 string:4\n",
      "┌ Info: Plotting frame 14 of 29...\n",
      "└ @ Main.##474 string:4\n",
      "┌ Info: Plotting frame 15 of 29...\n",
      "└ @ Main.##474 string:4\n",
      "┌ Info: Plotting frame 16 of 29...\n",
      "└ @ Main.##474 string:4\n",
      "┌ Info: Plotting frame 17 of 29...\n",
      "└ @ Main.##474 string:4\n",
      "┌ Info: Plotting frame 18 of 29...\n",
      "└ @ Main.##474 string:4\n",
      "┌ Info: Plotting frame 19 of 29...\n",
      "└ @ Main.##474 string:4\n",
      "┌ Info: Plotting frame 20 of 29...\n",
      "└ @ Main.##474 string:4\n",
      "┌ Info: Plotting frame 21 of 29...\n",
      "└ @ Main.##474 string:4\n",
      "┌ Info: Plotting frame 22 of 29...\n",
      "└ @ Main.##474 string:4\n",
      "┌ Info: Plotting frame 23 of 29...\n",
      "└ @ Main.##474 string:4\n",
      "┌ Info: Plotting frame 24 of 29...\n",
      "└ @ Main.##474 string:4\n",
      "┌ Info: Plotting frame 25 of 29...\n",
      "└ @ Main.##474 string:4\n",
      "┌ Info: Plotting frame 26 of 29...\n",
      "└ @ Main.##474 string:4\n",
      "┌ Info: Plotting frame 27 of 29...\n",
      "└ @ Main.##474 string:4\n",
      "┌ Info: Plotting frame 28 of 29...\n",
      "└ @ Main.##474 string:4\n",
      "┌ Info: Plotting frame 29 of 29...\n",
      "└ @ Main.##474 string:4\n",
      "┌ Info: Saved animation to \n",
      "│   fn = /central/scratch/climaci/climatemachine-docs/1129/climatemachine-docs/docs/src/generated/Ocean/internal_wave.mp4\n",
      "└ @ Plots /central/scratch/climaci/climatemachine-docs/1129/depot/cpu/packages/Plots/z5Msu/src/animation.jl:104\n"
     ]
    },
    {
     "output_type": "execute_result",
     "data": {
      "text/plain": "Plots.AnimatedGif(\"/central/scratch/climaci/climatemachine-docs/1129/climatemachine-docs/docs/src/generated/Ocean/internal_wave.mp4\")",
      "text/html": [
       "<video controls><source src=\"data:video/mp4;base64,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\" type = \"video/mp4\"></video>"
      ]
     },
     "metadata": {},
     "execution_count": 14
    }
   ],
   "cell_type": "code",
   "source": [
    "using Plots\n",
    "\n",
    "animation = @animate for (i, state) in enumerate(fetched_states)\n",
    "    @info \"Plotting frame $i of $(length(fetched_states))...\"\n",
    "\n",
    "    η_plot = plot(\n",
    "        state.u.x[:, 1, 1],\n",
    "        state.η.data[:, 1, 1],\n",
    "        ylim = ηlim,\n",
    "        label = nothing,\n",
    "        title = @sprintf(\"η at t = %.2f\", state.time),\n",
    "    )\n",
    "\n",
    "    u_plot = contourf(\n",
    "        state.u.x[:, 1, 1],\n",
    "        state.u.z[1, 1, :],\n",
    "        clamp.(state.u.data[:, 1, :], ulim[1], ulim[2])';\n",
    "        aspectratio = 64,\n",
    "        linewidth = 0,\n",
    "        xlim = domain.x,\n",
    "        ylim = domain.z,\n",
    "        xlabel = \"x\",\n",
    "        ylabel = \"z\",\n",
    "        color = :balance,\n",
    "        colorbar = false,\n",
    "        clim = ulim,\n",
    "        levels = ulevels,\n",
    "        title = @sprintf(\"u at t = %.2f\", state.time),\n",
    "    )\n",
    "\n",
    "    plot(\n",
    "        η_plot,\n",
    "        u_plot,\n",
    "        layout = Plots.grid(2, 1, heights = (0.3, 0.7)),\n",
    "        link = :x,\n",
    "        size = (600, 300),\n",
    "    )\n",
    "end\n",
    "\n",
    "gif(animation, \"internal_wave.mp4\", fps = 5) # hide"
   ],
   "metadata": {},
   "execution_count": 14
  },
  {
   "cell_type": "markdown",
   "source": [
    "---\n",
    "\n",
    "*This notebook was generated using [Literate.jl](https://github.com/fredrikekre/Literate.jl).*"
   ],
   "metadata": {}
  }
 ],
 "nbformat_minor": 3,
 "metadata": {
  "language_info": {
   "file_extension": ".jl",
   "mimetype": "application/julia",
   "name": "julia",
   "version": "1.5.4"
  },
  "kernelspec": {
   "name": "julia-1.5",
   "display_name": "Julia 1.5.4",
   "language": "julia"
  }
 },
 "nbformat": 4
}
