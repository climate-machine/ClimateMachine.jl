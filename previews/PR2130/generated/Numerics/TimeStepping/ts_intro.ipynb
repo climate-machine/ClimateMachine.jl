{
 "cells": [
  {
   "cell_type": "markdown",
   "source": [
    "# Time integration"
   ],
   "metadata": {}
  },
  {
   "cell_type": "markdown",
   "source": [
    "Time integration methods for the numerical solution of Ordinary Differential\n",
    "Equations (ODEs), also called timesteppers, can be of different nature and\n",
    "flavor (e.g., explicit, semi-implicit, single-stage, multi-stage, single-step,\n",
    "multi-step, single-rate, multi-rate, etc). ClimateMachine supports several\n",
    "of them. Before showing the different nature of some of these methods, let us\n",
    "introduce some common notation."
   ],
   "metadata": {}
  },
  {
   "cell_type": "markdown",
   "source": [
    "A commonly used notation for Initial Value Problems (IVPs) is:"
   ],
   "metadata": {}
  },
  {
   "cell_type": "markdown",
   "source": [
    "$$\n",
    "\\begin{align}\n",
    "    \\frac{\\mathrm{d} \\boldsymbol{q}}{ \\mathrm{d} t} &= \\mathcal{T}(t, \\boldsymbol{q}),\\\\\n",
    "    \\boldsymbol{q}(t_0) &= \\boldsymbol{q_0},\n",
    "\\end{align}\n",
    "$$"
   ],
   "metadata": {}
  },
  {
   "cell_type": "markdown",
   "source": [
    "where ``\\boldsymbol{q}`` is an unknown function (vector in most of our cases)\n",
    "of time ``t``, which we would like to approximate, and at the initial time ``t_0``\n",
    "the corresponding initial value ``\\boldsymbol{q}_0`` is given."
   ],
   "metadata": {}
  },
  {
   "cell_type": "markdown",
   "source": [
    "The given general formulation, is suitable for single-step explicit schemes.\n",
    "Generally, the equation can be represented in the following canonical form:"
   ],
   "metadata": {}
  },
  {
   "cell_type": "markdown",
   "source": [
    "$$\n",
    "\\begin{align}\n",
    "     \\dot {\\boldsymbol{q}} + \\mathcal{F}(t, \\boldsymbol{q}) &= \\mathcal{G}(t, \\boldsymbol{q}),\n",
    "\\end{align}\n",
    "$$"
   ],
   "metadata": {}
  },
  {
   "cell_type": "markdown",
   "source": [
    "where we have used ``\\dot {\\boldsymbol{q}} = d \\boldsymbol{q} / dt``.\n",
    "We refer to the term ``\\mathcal{G}``\n",
    "as the right-hand-side (RHS) or explicit term, and to the spatial terms of\n",
    "``\\mathcal{F}`` as the left-hand-side (LHS) or implicit term."
   ],
   "metadata": {}
  },
  {
   "cell_type": "markdown",
   "source": [
    "---\n",
    "\n",
    "*This notebook was generated using [Literate.jl](https://github.com/fredrikekre/Literate.jl).*"
   ],
   "metadata": {}
  }
 ],
 "nbformat_minor": 3,
 "metadata": {
  "language_info": {
   "file_extension": ".jl",
   "mimetype": "application/julia",
   "name": "julia",
   "version": "1.5.4"
  },
  "kernelspec": {
   "name": "julia-1.5",
   "display_name": "Julia 1.5.4",
   "language": "julia"
  }
 },
 "nbformat": 4
}
