{
 "cells": [
  {
   "cell_type": "markdown",
   "source": [
    "# Mode-1 internal wave reflection\n",
    "\n",
    "This example simulates the propagation of a mode-1 internal wave\n",
    "using the `ClimateMachine.Ocean` subcomponent to solve the hydrostatic\n",
    "Boussinesq equations.\n",
    "\n",
    "First we `ClimateMachine.init()`."
   ],
   "metadata": {}
  },
  {
   "outputs": [],
   "cell_type": "code",
   "source": [
    "using ClimateMachine\n",
    "\n",
    "ClimateMachine.init()"
   ],
   "metadata": {},
   "execution_count": 1
  },
  {
   "cell_type": "markdown",
   "source": [
    "# Domain setup\n",
    "\n",
    "We formulate a non-dimension problem in a Cartesian domain with oceanic anisotropy,"
   ],
   "metadata": {}
  },
  {
   "outputs": [
    {
     "output_type": "execute_result",
     "data": {
      "text/plain": "RectangularDomain{Float64}\n    Np = 4, Ne = (x = 32, y = 1, z = 4)\n    L = (x = 256.0, y = 256.0, z = 1.0)\n"
     },
     "metadata": {},
     "execution_count": 2
    }
   ],
   "cell_type": "code",
   "source": [
    "using ClimateMachine.Ocean.Domains\n",
    "\n",
    "domain = RectangularDomain(\n",
    "    Ne = (32, 1, 4),\n",
    "    Np = 4,\n",
    "    x = (-128, 128),\n",
    "    y = (-128, 128),\n",
    "    z = (-1, 0),\n",
    "    periodicity = (false, false, false),\n",
    ")"
   ],
   "metadata": {},
   "execution_count": 2
  },
  {
   "cell_type": "markdown",
   "source": [
    "# Parameters\n",
    "\n",
    "We choose parameters appropriate for a hydrostatic internal wave,"
   ],
   "metadata": {}
  },
  {
   "cell_type": "markdown",
   "source": [
    "Non-dimensional internal wave parameters"
   ],
   "metadata": {}
  },
  {
   "outputs": [
    {
     "output_type": "execute_result",
     "data": {
      "text/plain": "10"
     },
     "metadata": {},
     "execution_count": 3
    }
   ],
   "cell_type": "code",
   "source": [
    "f = 1  # Coriolis\n",
    "N = 10 # Buoyancy frequency"
   ],
   "metadata": {},
   "execution_count": 3
  },
  {
   "cell_type": "markdown",
   "source": [
    "Note that the validity of the hydrostatic approximation requires\n",
    "small aspect ratio motions with ``k / m \\\\ll 1``.\n",
    "The hydrostatic dispersion relation for inertia-gravity waves then implies that"
   ],
   "metadata": {}
  },
  {
   "outputs": [
    {
     "output_type": "execute_result",
     "data": {
      "text/plain": "2.692582403567252"
     },
     "metadata": {},
     "execution_count": 4
    }
   ],
   "cell_type": "code",
   "source": [
    "λ = 8      # horizontal wave-length\n",
    "k = 2π / λ # horizontal wavenumber\n",
    "m = π\n",
    "\n",
    "ω² = f^2 + N^2 * k^2 / m^2 # and\n",
    "\n",
    "ω = √(ω²)"
   ],
   "metadata": {},
   "execution_count": 4
  },
  {
   "cell_type": "markdown",
   "source": [
    "# Internal wave initial condition\n",
    "\n",
    "We impose modest gravitational acceleration to render time-stepping feasible,"
   ],
   "metadata": {}
  },
  {
   "outputs": [],
   "cell_type": "code",
   "source": [
    "using CLIMAParameters: AbstractEarthParameterSet, Planet\n",
    "struct NonDimensionalParameters <: AbstractEarthParameterSet end\n",
    "\n",
    "Planet.grav(::NonDimensionalParameters) = 256.0"
   ],
   "metadata": {},
   "execution_count": 5
  },
  {
   "cell_type": "markdown",
   "source": [
    "we'd like to use `θ` as a buoyancy variable, which requires\n",
    "setting the thermal expansion coefficient ``αᵀ`` to"
   ],
   "metadata": {}
  },
  {
   "outputs": [
    {
     "output_type": "execute_result",
     "data": {
      "text/plain": "0.00390625"
     },
     "metadata": {},
     "execution_count": 6
    }
   ],
   "cell_type": "code",
   "source": [
    "g = Planet.grav(NonDimensionalParameters())\n",
    "\n",
    "αᵀ = 1 / g"
   ],
   "metadata": {},
   "execution_count": 6
  },
  {
   "cell_type": "markdown",
   "source": [
    "We then use the \"polarization relations\" for vertically-standing, horizontally-\n",
    "propagating hydrostatic internal waves to initialze two wave packets.\n",
    "The hydrostatic polarization relations require\n",
    "\n",
    "$$\n",
    "\\begin{gather}\n",
    "(∂_t^2 + f^2) u = - ∂_x ∂_t p\n",
    "∂_t v = - f u\n",
    "b = ∂_z p\n",
    "\\end{gather}\n",
    "$$\n",
    "\n",
    "Thus given ``p = \\cos (k x - ω t) \\cos (m z)``, we find"
   ],
   "metadata": {}
  },
  {
   "outputs": [
    {
     "output_type": "execute_result",
     "data": {
      "text/plain": "ClimateMachine.Ocean.OceanProblems.InitialConditions{typeof(Main.##464.uᵢ),typeof(Main.##464.vᵢ),typeof(Main.##464.θᵢ),typeof(ClimateMachine.Ocean.OceanProblems.resting)}(Main.##464.uᵢ, Main.##464.vᵢ, Main.##464.θᵢ, ClimateMachine.Ocean.OceanProblems.resting)"
     },
     "metadata": {},
     "execution_count": 7
    }
   ],
   "cell_type": "code",
   "source": [
    "δ = domain.L.x / 15\n",
    "a(x) = 1e-6 * exp(-x^2 / 2 * δ^2)\n",
    "\n",
    "ũ(x, z, t) = +a(x) * ω * sin(k * x - ω * t) * cos(m * z)\n",
    "ṽ(x, z, t) = -a(x) * f * cos(k * x - ω * t) * cos(m * z)\n",
    "θ̃(x, z, t) = -a(x) * m / k * (ω^2 - f^2) * sin(k * x - ω * t) * sin(m * z)\n",
    "\n",
    "uᵢ(x, y, z) = ũ(x, z, 0)\n",
    "vᵢ(x, y, z) = ṽ(x, z, 0)\n",
    "θᵢ(x, y, z) = θ̃(x, z, 0) + N^2 * z\n",
    "\n",
    "using ClimateMachine.Ocean.OceanProblems: InitialConditions\n",
    "\n",
    "initial_conditions = InitialConditions(u = uᵢ, v = vᵢ, θ = θᵢ)"
   ],
   "metadata": {},
   "execution_count": 7
  },
  {
   "cell_type": "markdown",
   "source": [
    "# Model configuration\n",
    "\n",
    "We choose a time-step that resolves the gravity wave phase speed,"
   ],
   "metadata": {}
  },
  {
   "outputs": [
    {
     "output_type": "execute_result",
     "data": {
      "text/plain": "0.005"
     },
     "metadata": {},
     "execution_count": 8
    }
   ],
   "cell_type": "code",
   "source": [
    "time_step = 0.005 # close to Δx / c = 0.5 * 1/16, where Δx is nominal resolution"
   ],
   "metadata": {},
   "execution_count": 8
  },
  {
   "cell_type": "markdown",
   "source": [
    "and build a model with a smidgeon of viscosity and diffusion,"
   ],
   "metadata": {}
  },
  {
   "outputs": [
    {
     "name": "stdout",
     "output_type": "stream",
     "text": [
      "┌ Info: Initializing \n",
      "└ @ ClimateMachine /central/scratch/climaci/climatemachine-docs/1125/climatemachine-docs/src/Driver/solver_configs.jl:169\n"
     ]
    }
   ],
   "cell_type": "code",
   "source": [
    "using ClimateMachine.Ocean: HydrostaticBoussinesqSuperModel\n",
    "\n",
    "model = HydrostaticBoussinesqSuperModel(\n",
    "    domain = domain,\n",
    "    time_step = time_step,\n",
    "    initial_conditions = initial_conditions,\n",
    "    parameters = NonDimensionalParameters(),\n",
    "    turbulence_closure = (νʰ = 1e-6, νᶻ = 1e-6, κʰ = 1e-6, κᶻ = 1e-6),\n",
    "    coriolis = (f₀ = f, β = 0),\n",
    "    buoyancy = (αᵀ = αᵀ,),\n",
    "    boundary_tags = ((1, 1), (1, 1), (1, 2)),\n",
    ");\n",
    "nothing"
   ],
   "metadata": {},
   "execution_count": 9
  },
  {
   "cell_type": "markdown",
   "source": [
    "# Fetching data for an animation\n",
    "\n",
    "To animate the `ClimateMachine.Ocean` solution, we assemble and\n",
    "cache the horizontal velocity ``u`` at periodic intervals:"
   ],
   "metadata": {}
  },
  {
   "outputs": [
    {
     "output_type": "execute_result",
     "data": {
      "text/plain": "ClimateMachine.GenericCallbacks.EveryXSimulationTime(Main.##464.var\"#1#2\"(), 0.46670328817831874, 0)"
     },
     "metadata": {},
     "execution_count": 10
    }
   ],
   "cell_type": "code",
   "source": [
    "using ClimateMachine.Ocean: current_time\n",
    "using ClimateMachine.Ocean.Fields: assemble\n",
    "using ClimateMachine.GenericCallbacks: EveryXSimulationTime\n",
    "\n",
    "fetched_states = []\n",
    "fetch_every = 0.2 * 2π / ω # time\n",
    "\n",
    "data_fetcher = EveryXSimulationTime(fetch_every) do\n",
    "    push!(\n",
    "        fetched_states,\n",
    "        (\n",
    "            u = assemble(model.fields.u.elements),\n",
    "            θ = assemble(model.fields.θ.elements),\n",
    "            η = assemble(model.fields.η.elements),\n",
    "            time = current_time(model),\n",
    "        ),\n",
    "    )\n",
    "    return nothing\n",
    "end"
   ],
   "metadata": {},
   "execution_count": 10
  },
  {
   "cell_type": "markdown",
   "source": [
    "We also build a callback to log the progress of our simulation,"
   ],
   "metadata": {}
  },
  {
   "outputs": [
    {
     "output_type": "execute_result",
     "data": {
      "text/plain": "ClimateMachine.GenericCallbacks.EveryXSimulationSteps(Main.##464.var\"#3#4\"(), 100, 0)"
     },
     "metadata": {},
     "execution_count": 11
    }
   ],
   "cell_type": "code",
   "source": [
    "using Printf\n",
    "using ClimateMachine.GenericCallbacks: EveryXSimulationSteps\n",
    "using ClimateMachine.Ocean: current_time, current_step, Δt\n",
    "\n",
    "print_every = 100 # iterations\n",
    "wall_clock = [time_ns()]\n",
    "\n",
    "tiny_progress_printer = EveryXSimulationSteps(print_every) do\n",
    "\n",
    "    @info(@sprintf(\n",
    "        \"Steps: %d, time: %.2f, Δt: %.2f, max(|u|): %.2e, elapsed time: %.2f secs\",\n",
    "        current_step(model),\n",
    "        current_time(model),\n",
    "        Δt(model),\n",
    "        maximum(abs, model.fields.u),\n",
    "        1e-9 * (time_ns() - wall_clock[1])\n",
    "    ))\n",
    "\n",
    "    wall_clock[1] = time_ns()\n",
    "end"
   ],
   "metadata": {},
   "execution_count": 11
  },
  {
   "cell_type": "markdown",
   "source": [
    "# Running the simulation and animating the results\n",
    "\n",
    "We're ready to launch."
   ],
   "metadata": {}
  },
  {
   "outputs": [
    {
     "name": "stdout",
     "output_type": "stream",
     "text": [
      "┌ Info:  Simulating a hydrostatic Gaussian wave packet with parameters\n",
      "│ \n",
      "│     f (Coriolis parameter):       1\n",
      "│     N (buoyancy frequency):       10\n",
      "│     Internal wave frequency:      2.692582403567252\n",
      "│     Surface wave frequency:       12.566370614359172\n",
      "│     Surface wave group velocity:  16.0\n",
      "│     Internal wave group velocity: 9.284766908852594\n",
      "│     Domain width:                 256.0\n",
      "│     Domain height:                1.0\n",
      "│ \n",
      "└ @ Main.##464 string:4\n",
      "┌ Info: Starting \n",
      "│     dt              = 5.00000e-03\n",
      "│     timeend         =    14.00\n",
      "│     number of steps = 1\n",
      "│     norm(Q)         = 1.4780166891254430e+04\n",
      "└ @ ClimateMachine /central/scratch/climaci/climatemachine-docs/1125/climatemachine-docs/src/Driver/Driver.jl:783\n",
      "┌ Info: Steps: 100, time: 0.50, Δt: 0.01, max(|u|): 2.54e-07, elapsed time: 34.40 secs\n",
      "└ @ Main.##464 string:10\n",
      "┌ Info: Steps: 200, time: 1.00, Δt: 0.01, max(|u|): 1.54e-07, elapsed time: 3.24 secs\n",
      "└ @ Main.##464 string:10\n",
      "┌ Info: Steps: 300, time: 1.50, Δt: 0.01, max(|u|): 2.56e-07, elapsed time: 3.26 secs\n",
      "└ @ Main.##464 string:10\n",
      "┌ Info: Steps: 400, time: 2.00, Δt: 0.01, max(|u|): 1.23e-07, elapsed time: 3.22 secs\n",
      "└ @ Main.##464 string:10\n",
      "┌ Info: Steps: 500, time: 2.50, Δt: 0.01, max(|u|): 1.10e-07, elapsed time: 3.34 secs\n",
      "└ @ Main.##464 string:10\n",
      "┌ Info: Steps: 600, time: 3.00, Δt: 0.01, max(|u|): 1.04e-07, elapsed time: 3.17 secs\n",
      "└ @ Main.##464 string:10\n",
      "┌ Info: Steps: 700, time: 3.50, Δt: 0.01, max(|u|): 1.19e-07, elapsed time: 3.19 secs\n",
      "└ @ Main.##464 string:10\n",
      "┌ Info: Steps: 800, time: 4.00, Δt: 0.01, max(|u|): 8.99e-08, elapsed time: 3.17 secs\n",
      "└ @ Main.##464 string:10\n",
      "┌ Info: Steps: 900, time: 4.50, Δt: 0.01, max(|u|): 1.28e-07, elapsed time: 3.38 secs\n",
      "└ @ Main.##464 string:10\n",
      "┌ Info: Update\n",
      "│     simtime =     4.53 /    14.00\n",
      "│     wallclock = 00:01:00\n",
      "│     efficiency (simtime / wallclock) =   0.0751\n",
      "│     wallclock end (estimated) = 00:03:06\n",
      "│     norm(Q) = 1.4779964233781464e+04\n",
      "└ @ ClimateMachine.Callbacks /central/scratch/climaci/climatemachine-docs/1125/climatemachine-docs/src/Driver/Callbacks/Callbacks.jl:75\n",
      "┌ Info: Steps: 1000, time: 5.00, Δt: 0.01, max(|u|): 1.39e-07, elapsed time: 3.46 secs\n",
      "└ @ Main.##464 string:10\n",
      "┌ Info: Steps: 1100, time: 5.50, Δt: 0.01, max(|u|): 1.26e-07, elapsed time: 3.12 secs\n",
      "└ @ Main.##464 string:10\n",
      "┌ Info: Steps: 1200, time: 6.00, Δt: 0.01, max(|u|): 1.03e-07, elapsed time: 3.11 secs\n",
      "└ @ Main.##464 string:10\n",
      "┌ Info: Steps: 1300, time: 6.50, Δt: 0.01, max(|u|): 6.65e-08, elapsed time: 3.70 secs\n",
      "└ @ Main.##464 string:10\n",
      "┌ Info: Steps: 1400, time: 7.00, Δt: 0.01, max(|u|): 1.37e-07, elapsed time: 3.14 secs\n",
      "└ @ Main.##464 string:10\n",
      "┌ Info: Steps: 1500, time: 7.50, Δt: 0.01, max(|u|): 8.29e-08, elapsed time: 3.14 secs\n",
      "└ @ Main.##464 string:10\n",
      "┌ Info: Steps: 1600, time: 8.00, Δt: 0.01, max(|u|): 7.20e-08, elapsed time: 3.65 secs\n",
      "└ @ Main.##464 string:10\n",
      "┌ Info: Steps: 1700, time: 8.50, Δt: 0.01, max(|u|): 7.33e-08, elapsed time: 3.13 secs\n",
      "└ @ Main.##464 string:10\n",
      "┌ Info: Steps: 1800, time: 9.00, Δt: 0.01, max(|u|): 1.09e-07, elapsed time: 3.09 secs\n",
      "└ @ Main.##464 string:10\n",
      "┌ Info: Steps: 1900, time: 9.50, Δt: 0.01, max(|u|): 7.96e-08, elapsed time: 3.20 secs\n",
      "└ @ Main.##464 string:10\n",
      "┌ Info: Steps: 2000, time: 10.00, Δt: 0.01, max(|u|): 9.98e-08, elapsed time: 3.13 secs\n",
      "└ @ Main.##464 string:10\n",
      "┌ Info: Steps: 2100, time: 10.50, Δt: 0.01, max(|u|): 8.89e-08, elapsed time: 3.07 secs\n",
      "└ @ Main.##464 string:10\n",
      "┌ Info: Steps: 2200, time: 11.00, Δt: 0.01, max(|u|): 1.17e-07, elapsed time: 3.16 secs\n",
      "└ @ Main.##464 string:10\n",
      "┌ Info: Steps: 2300, time: 11.50, Δt: 0.01, max(|u|): 1.06e-07, elapsed time: 3.13 secs\n",
      "└ @ Main.##464 string:10\n",
      "┌ Info: Steps: 2400, time: 12.00, Δt: 0.01, max(|u|): 7.91e-08, elapsed time: 3.10 secs\n",
      "└ @ Main.##464 string:10\n",
      "┌ Info: Steps: 2500, time: 12.50, Δt: 0.01, max(|u|): 1.06e-07, elapsed time: 3.12 secs\n",
      "└ @ Main.##464 string:10\n",
      "┌ Info: Steps: 2600, time: 13.00, Δt: 0.01, max(|u|): 7.81e-08, elapsed time: 3.19 secs\n",
      "└ @ Main.##464 string:10\n",
      "┌ Info: Steps: 2700, time: 13.50, Δt: 0.01, max(|u|): 8.66e-08, elapsed time: 3.17 secs\n",
      "└ @ Main.##464 string:10\n",
      "┌ Info: Update\n",
      "│     simtime =    13.88 /    14.00\n",
      "│     wallclock = 00:02:00\n",
      "│     efficiency (simtime / wallclock) =   0.1157\n",
      "│     wallclock end (estimated) = 00:02:01\n",
      "│     norm(Q) = 1.4779545039830287e+04\n",
      "└ @ ClimateMachine.Callbacks /central/scratch/climaci/climatemachine-docs/1125/climatemachine-docs/src/Driver/Callbacks/Callbacks.jl:75\n",
      "┌ Info: Steps: 2800, time: 14.00, Δt: 0.01, max(|u|): 7.43e-08, elapsed time: 3.15 secs\n",
      "└ @ Main.##464 string:10\n",
      "┌ Info: Finished\n",
      "│     norm(Q)            = 1.4779539437004471e+04\n",
      "│     norm(Q) / norm(Q₀) = 9.9995754755311117e-01\n",
      "│     norm(Q) - norm(Q₀) = -6.2745424995955545e-01\n",
      "└ @ ClimateMachine /central/scratch/climaci/climatemachine-docs/1125/climatemachine-docs/src/Driver/Driver.jl:834\n"
     ]
    },
    {
     "output_type": "execute_result",
     "data": {
      "text/plain": "0.9999575475531112"
     },
     "metadata": {},
     "execution_count": 12
    }
   ],
   "cell_type": "code",
   "source": [
    "model.solver_configuration.timeend = 6 * 2π / ω\n",
    "# model.solver.dt = 0.05 # make this work\n",
    "\n",
    "@info \"\"\" Simulating a hydrostatic Gaussian wave packet with parameters\n",
    "\n",
    "    f (Coriolis parameter):       $f\n",
    "    N (buoyancy frequency):       $N\n",
    "    Internal wave frequency:      $(abs(ω))\n",
    "    Surface wave frequency:       $(k * sqrt(g * domain.L.z))\n",
    "    Surface wave group velocity:  $(sqrt(g * domain.L.z))\n",
    "    Internal wave group velocity: $(N^2 * k / (ω * m))\n",
    "    Domain width:                 $(domain.L.x)\n",
    "    Domain height:                $(domain.L.z)\n",
    "\n",
    "\"\"\"\n",
    "\n",
    "result = ClimateMachine.invoke!(\n",
    "    model.solver_configuration;\n",
    "    user_callbacks = [tiny_progress_printer, data_fetcher],\n",
    ")"
   ],
   "metadata": {},
   "execution_count": 12
  },
  {
   "cell_type": "markdown",
   "source": [
    "# Animating the result\n",
    "\n",
    "We first analye the results to generate plotting limits and contour levels"
   ],
   "metadata": {}
  },
  {
   "outputs": [
    {
     "output_type": "execute_result",
     "data": {
      "text/plain": "-2.211098749709738e-7:1.4740658331398252e-8:2.211098749709738e-7"
     },
     "metadata": {},
     "execution_count": 13
    }
   ],
   "cell_type": "code",
   "source": [
    "ηmax = maximum([maximum(abs, state.η.data) for state in fetched_states])\n",
    "umax = maximum([maximum(abs, state.u.data) for state in fetched_states])\n",
    "\n",
    "ηlim = (-ηmax, ηmax)\n",
    "ulim = (-umax, umax)\n",
    "ulevels = range(ulim[1], ulim[2], length = 31)"
   ],
   "metadata": {},
   "execution_count": 13
  },
  {
   "cell_type": "markdown",
   "source": [
    "and then animate both fields in a loop,"
   ],
   "metadata": {}
  },
  {
   "outputs": [
    {
     "name": "stdout",
     "output_type": "stream",
     "text": [
      "┌ Info: Plotting frame 1 of 29...\n",
      "└ @ Main.##464 string:4\n",
      "┌ Info: Plotting frame 2 of 29...\n",
      "└ @ Main.##464 string:4\n",
      "┌ Info: Plotting frame 3 of 29...\n",
      "└ @ Main.##464 string:4\n",
      "┌ Info: Plotting frame 4 of 29...\n",
      "└ @ Main.##464 string:4\n",
      "┌ Info: Plotting frame 5 of 29...\n",
      "└ @ Main.##464 string:4\n",
      "┌ Info: Plotting frame 6 of 29...\n",
      "└ @ Main.##464 string:4\n",
      "┌ Info: Plotting frame 7 of 29...\n",
      "└ @ Main.##464 string:4\n",
      "┌ Info: Plotting frame 8 of 29...\n",
      "└ @ Main.##464 string:4\n",
      "┌ Info: Plotting frame 9 of 29...\n",
      "└ @ Main.##464 string:4\n",
      "┌ Info: Plotting frame 10 of 29...\n",
      "└ @ Main.##464 string:4\n",
      "┌ Info: Plotting frame 11 of 29...\n",
      "└ @ Main.##464 string:4\n",
      "┌ Info: Plotting frame 12 of 29...\n",
      "└ @ Main.##464 string:4\n",
      "┌ Info: Plotting frame 13 of 29...\n",
      "└ @ Main.##464 string:4\n",
      "┌ Info: Plotting frame 14 of 29...\n",
      "└ @ Main.##464 string:4\n",
      "┌ Info: Plotting frame 15 of 29...\n",
      "└ @ Main.##464 string:4\n",
      "┌ Info: Plotting frame 16 of 29...\n",
      "└ @ Main.##464 string:4\n",
      "┌ Info: Plotting frame 17 of 29...\n",
      "└ @ Main.##464 string:4\n",
      "┌ Info: Plotting frame 18 of 29...\n",
      "└ @ Main.##464 string:4\n",
      "┌ Info: Plotting frame 19 of 29...\n",
      "└ @ Main.##464 string:4\n",
      "┌ Info: Plotting frame 20 of 29...\n",
      "└ @ Main.##464 string:4\n",
      "┌ Info: Plotting frame 21 of 29...\n",
      "└ @ Main.##464 string:4\n",
      "┌ Info: Plotting frame 22 of 29...\n",
      "└ @ Main.##464 string:4\n",
      "┌ Info: Plotting frame 23 of 29...\n",
      "└ @ Main.##464 string:4\n",
      "┌ Info: Plotting frame 24 of 29...\n",
      "└ @ Main.##464 string:4\n",
      "┌ Info: Plotting frame 25 of 29...\n",
      "└ @ Main.##464 string:4\n",
      "┌ Info: Plotting frame 26 of 29...\n",
      "└ @ Main.##464 string:4\n",
      "┌ Info: Plotting frame 27 of 29...\n",
      "└ @ Main.##464 string:4\n",
      "┌ Info: Plotting frame 28 of 29...\n",
      "└ @ Main.##464 string:4\n",
      "┌ Info: Plotting frame 29 of 29...\n",
      "└ @ Main.##464 string:4\n",
      "┌ Info: Saved animation to \n",
      "│   fn = /central/scratch/climaci/climatemachine-docs/1125/climatemachine-docs/docs/src/generated/Ocean/internal_wave.mp4\n",
      "└ @ Plots /central/scratch/climaci/climatemachine-docs/1125/depot/cpu/packages/Plots/z5Msu/src/animation.jl:104\n"
     ]
    },
    {
     "output_type": "execute_result",
     "data": {
      "text/plain": "Plots.AnimatedGif(\"/central/scratch/climaci/climatemachine-docs/1125/climatemachine-docs/docs/src/generated/Ocean/internal_wave.mp4\")",
      "text/html": [
       "<video controls><source src=\"data:video/mp4;base64,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\" type = \"video/mp4\"></video>"
      ]
     },
     "metadata": {},
     "execution_count": 14
    }
   ],
   "cell_type": "code",
   "source": [
    "using Plots\n",
    "\n",
    "animation = @animate for (i, state) in enumerate(fetched_states)\n",
    "    @info \"Plotting frame $i of $(length(fetched_states))...\"\n",
    "\n",
    "    η_plot = plot(\n",
    "        state.u.x[:, 1, 1],\n",
    "        state.η.data[:, 1, 1],\n",
    "        ylim = ηlim,\n",
    "        label = nothing,\n",
    "        title = @sprintf(\"η at t = %.2f\", state.time),\n",
    "    )\n",
    "\n",
    "    u_plot = contourf(\n",
    "        state.u.x[:, 1, 1],\n",
    "        state.u.z[1, 1, :],\n",
    "        clamp.(state.u.data[:, 1, :], ulim[1], ulim[2])';\n",
    "        aspectratio = 64,\n",
    "        linewidth = 0,\n",
    "        xlim = domain.x,\n",
    "        ylim = domain.z,\n",
    "        xlabel = \"x\",\n",
    "        ylabel = \"z\",\n",
    "        color = :balance,\n",
    "        colorbar = false,\n",
    "        clim = ulim,\n",
    "        levels = ulevels,\n",
    "        title = @sprintf(\"u at t = %.2f\", state.time),\n",
    "    )\n",
    "\n",
    "    plot(\n",
    "        η_plot,\n",
    "        u_plot,\n",
    "        layout = Plots.grid(2, 1, heights = (0.3, 0.7)),\n",
    "        link = :x,\n",
    "        size = (600, 300),\n",
    "    )\n",
    "end\n",
    "\n",
    "gif(animation, \"internal_wave.mp4\", fps = 5) # hide"
   ],
   "metadata": {},
   "execution_count": 14
  },
  {
   "cell_type": "markdown",
   "source": [
    "---\n",
    "\n",
    "*This notebook was generated using [Literate.jl](https://github.com/fredrikekre/Literate.jl).*"
   ],
   "metadata": {}
  }
 ],
 "nbformat_minor": 3,
 "metadata": {
  "language_info": {
   "file_extension": ".jl",
   "mimetype": "application/julia",
   "name": "julia",
   "version": "1.5.4"
  },
  "kernelspec": {
   "name": "julia-1.5",
   "display_name": "Julia 1.5.4",
   "language": "julia"
  }
 },
 "nbformat": 4
}
