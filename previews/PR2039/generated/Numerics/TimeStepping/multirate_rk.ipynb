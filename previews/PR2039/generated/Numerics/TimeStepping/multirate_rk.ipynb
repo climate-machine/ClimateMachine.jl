{
 "cells": [
  {
   "cell_type": "markdown",
   "source": [
    "# Multirate Runge-Kutta Timestepping"
   ],
   "metadata": {}
  },
  {
   "cell_type": "markdown",
   "source": [
    "In this tutorial, we shall explore the use of Multirate Runge-Kutta\n",
    "methods for the solution of nonautonomous (or non time-invariant) equations.\n",
    "For our model problem, we shall reuse the acoustic wave test in the GCM\n",
    "configuration. See its code\n",
    "for details on the model and parameters. For the purposes of this tutorial,\n",
    "we will only run the experiment for a total of 3600 simulation seconds.\n",
    "Details on this test case can be found in Sec. 4.3 of [Giraldo2013](@cite)."
   ],
   "metadata": {}
  },
  {
   "outputs": [],
   "cell_type": "code",
   "source": [
    "using ClimateMachine\n",
    "const clima_dir = dirname(dirname(pathof(ClimateMachine)));\n",
    "include(joinpath(\n",
    "    clima_dir,\n",
    "    \"tutorials\",\n",
    "    \"Numerics\",\n",
    "    \"TimeStepping\",\n",
    "    \"tutorial_acousticwave_config.jl\",\n",
    "))\n",
    "\n",
    "FT = Float64;"
   ],
   "metadata": {},
   "execution_count": 1
  },
  {
   "cell_type": "markdown",
   "source": [
    "The typical context for Multirate splitting methods is given by problems\n",
    "in which the tendency ``\\mathcal{T}`` is assumed to have single parts that\n",
    "operate on different time rates (such as a slow time scale and a fast time scale).\n",
    "A general form is given by\n",
    "\n",
    "``\n",
    "\t\\dot{\\boldsymbol{q}} = \\mathcal{T}(\\boldsymbol{q}) \\equiv\n",
    "\t{\\mathcal{T}}_{f}(\\boldsymbol{q}) + {\\mathcal{T}}_{s}(\\boldsymbol{q}),\n",
    "``\n",
    "\n",
    "where the right-hand side has been split into a \"fast\" component ``{\\mathcal{T}_{f}}``,\n",
    "and a \"slow\" component ``{\\mathcal{T}_{s}}``."
   ],
   "metadata": {}
  },
  {
   "cell_type": "markdown",
   "source": [
    "Referencing the canonical form introduced in [Time integration](@ref\n",
    "Time-integration), both ``{\\mathcal{T}_{f}}`` and ``{\\mathcal{T}_{s}}``\n",
    "could be discretized either explicitly or implicitly, hence, they could\n",
    "belong to either ``\\mathcal{F}(t, \\boldsymbol{q})`` or ``\\mathcal{G}(t, \\boldsymbol{q})``\n",
    "term.\n",
    "\n",
    "For a given time-step size ``\\Delta t``, the two-rate method in [Schlegel2009](@cite)\n",
    "is summarized as the following:\n",
    "\n",
    "$$\n",
    "\\begin{align}\n",
    "    \\boldsymbol{Q}_1 &= \\boldsymbol{q}(t_n), \\\\\n",
    "    \\boldsymbol{r}_{i} &= \\sum_{j=1}^{i-1}\\tilde{a}^O_{ij} {\\mathcal{T}_{s}}(\\boldsymbol{Q}_{j}), \\\\\n",
    "    \\boldsymbol{w}_{i,1} &= \\boldsymbol{Q}_{i-1},\\\\\n",
    "    \\boldsymbol{w}_{i,k} &= \\boldsymbol{w}_{i,k-1} + \\Delta t \\tilde{c}_i^O \\sum_{j=1}^{k-1}\\tilde{a}^I_{k,j}\n",
    "    \\left(\\frac{1}{\\tilde{c}_i^O}\\boldsymbol{r}_i + {\\mathcal{T}_{f}}(\\boldsymbol{w}_{i,j})\\right),\\\\\n",
    "    & \\quad\\quad i = 2, \\cdots, s^O + 1 \\text{ and } k = 2, \\cdots, s^I + 1,\\nonumber \\\\\n",
    "    \\boldsymbol{Q}_i &= \\boldsymbol{w}_{i,s^I + 1}\n",
    "\\end{align}\n",
    "$$\n",
    "\n",
    "where the tilde parameters denote increments per RK stage:\n",
    "\n",
    "$$\n",
    "\\begin{align}\n",
    "    \\tilde{a}_{ij} &= \\begin{cases}\n",
    "        a_{i,j} - a_{i-1, j} & \\text{if } i < s + 1 \\\\\n",
    "        b_j - a_{s,j} & \\text{if } i = s + 1\n",
    "    \\end{cases},\\\\\n",
    "    \\tilde{c}_{i} &= \\begin{cases}\n",
    "        c_{i} - c_{i-1} & \\text{if } i < s + 1 \\\\\n",
    "        1 - c_{s} & \\text{if } i = s + 1\n",
    "    \\end{cases},\n",
    "\\end{align}\n",
    "$$\n",
    "\n",
    "where the coefficients ``a``, ``b``, and ``c`` correspond to the Butcher\n",
    "tableau for a given RK method. The superscripts ``O`` and ``I`` denote the\n",
    "*outer* (slow) and *inner* (fast) components of the multirate method\n",
    "respectively. Thus, tilde coefficients should be associated with the RK\n",
    "method indicated by the superscripts. In other words, the RK methods\n",
    "for the slow ``{\\mathcal{T}_{s}}`` and fast\n",
    "``{\\mathcal{T}_{f}}`` components have Butcher tables given by:\n",
    "\n",
    "$$\n",
    "\\begin{align}\n",
    "    \\begin{array}{c|c}\n",
    "    \\boldsymbol{c}_{O} &\\boldsymbol{A}_{O} \\\\\n",
    "    \\hline\n",
    "    & \\boldsymbol{b}_O^T\n",
    "    \\end{array}, \\quad\n",
    "    \\begin{array}{c|c}\n",
    "    \\boldsymbol{c}_{I} &\\boldsymbol{A}_{I} \\\\\n",
    "    \\hline\n",
    "    & \\boldsymbol{b}_I^T\n",
    "    \\end{array},\n",
    "\\end{align}\n",
    "$$\n",
    "\n",
    "where ``\\boldsymbol{A}_O = \\lbrace a_{i,j}^O\\rbrace``, ``\\boldsymbol{b}_O = \\lbrace b_i^O \\rbrace``, and\n",
    "``c_O = \\lbrace c_i^O \\rbrace`` (similarly for ``\\boldsymbol{A}_I``, ``\\boldsymbol{b}_I``, and ``\\boldsymbol{c}_I``).\n",
    "The method described here is for an explicit RK outer method with ``s`` stages.\n",
    "More details can be found in [Schlegel2012](@cite)."
   ],
   "metadata": {}
  },
  {
   "cell_type": "markdown",
   "source": [
    "The acoustic wave test case used in this tutorial represents a global-scale\n",
    "problem with inertia-gravity waves traveling around the entire planet.\n",
    "It has a hydrostatically balanced initial state that is given a pressure\n",
    "perturbation.\n",
    "This initial pressure perturbation causes an acoustic wave to travel to\n",
    "the antipode, coalesce, and return to the initial position. The exact solution\n",
    "of this test case is simple in that the (linear) acoustic theory allows one\n",
    "to verify the analytic speed of sound based on the thermodynamics variables.\n",
    "The initial condition is defined as a hydrostatically balanced atmosphere\n",
    "with background (reference) potential temperature."
   ],
   "metadata": {}
  },
  {
   "outputs": [
    {
     "name": "stdout",
     "output_type": "stream",
     "text": [
      "ClimateMachine.array_type() = Array\n",
      "┌ Info: Model composition\n",
      "│     physics = ClimateMachine.Atmos.AtmosPhysics{Float64,Main.##396.EarthParameterSet,ClimateMachine.Atmos.HydrostaticState{ClimateMachine.TemperatureProfiles.DecayingTemperatureProfile{Float64},Float64},ClimateMachine.Atmos.Compressible,ClimateMachine.TurbulenceClosures.ConstantDynamicViscosity{Float64,ClimateMachine.TurbulenceClosures.WithoutDivergence},ClimateMachine.TurbulenceConvection.NoTurbConv,ClimateMachine.TurbulenceClosures.NoHyperDiffusion,ClimateMachine.TurbulenceClosures.NoViscousSponge,ClimateMachine.Atmos.NoPrecipitation,ClimateMachine.Atmos.NoRadiation,ClimateMachine.Atmos.NoTracers,ClimateMachine.Atmos.NoLSForcing}(Main.##396.EarthParameterSet(), ClimateMachine.Atmos.HydrostaticState{ClimateMachine.TemperatureProfiles.DecayingTemperatureProfile{Float64},Float64}(ClimateMachine.TemperatureProfiles.DecayingTemperatureProfile{Float64}(300.0, 300.0, 8776.832091407436), 0.0, true), ClimateMachine.Atmos.Compressible(), ClimateMachine.TurbulenceClosures.ConstantDynamicViscosity{Float64,ClimateMachine.TurbulenceClosures.WithoutDivergence}(0.0, ClimateMachine.TurbulenceClosures.WithoutDivergence()), ClimateMachine.TurbulenceConvection.NoTurbConv(), ClimateMachine.TurbulenceClosures.NoHyperDiffusion(), ClimateMachine.TurbulenceClosures.NoViscousSponge(), ClimateMachine.Atmos.NoPrecipitation(), ClimateMachine.Atmos.NoRadiation(), ClimateMachine.Atmos.NoTracers(), ClimateMachine.Atmos.NoLSForcing())\n",
      "│     problem = ClimateMachine.Atmos.AtmosProblem{Tuple{ClimateMachine.Atmos.AtmosBC{ClimateMachine.Atmos.Impenetrable{ClimateMachine.Atmos.FreeSlip},ClimateMachine.Atmos.Insulating,ClimateMachine.Atmos.Impermeable,ClimateMachine.Atmos.OutflowPrecipitation,ClimateMachine.Atmos.ImpermeableTracer,ClimateMachine.TurbulenceConvection.NoTurbConvBC},ClimateMachine.Atmos.AtmosBC{ClimateMachine.Atmos.Impenetrable{ClimateMachine.Atmos.FreeSlip},ClimateMachine.Atmos.Insulating,ClimateMachine.Atmos.Impermeable,ClimateMachine.Atmos.OutflowPrecipitation,ClimateMachine.Atmos.ImpermeableTracer,ClimateMachine.TurbulenceConvection.NoTurbConvBC}},Main.##396.AcousticWaveSetup{Float64},typeof(ClimateMachine.Atmos.atmos_problem_init_state_auxiliary)}((ClimateMachine.Atmos.AtmosBC{ClimateMachine.Atmos.Impenetrable{ClimateMachine.Atmos.FreeSlip},ClimateMachine.Atmos.Insulating,ClimateMachine.Atmos.Impermeable,ClimateMachine.Atmos.OutflowPrecipitation,ClimateMachine.Atmos.ImpermeableTracer,ClimateMachine.TurbulenceConvection.NoTurbConvBC}(ClimateMachine.Atmos.Impenetrable{ClimateMachine.Atmos.FreeSlip}(ClimateMachine.Atmos.FreeSlip()), ClimateMachine.Atmos.Insulating(), ClimateMachine.Atmos.Impermeable(), ClimateMachine.Atmos.OutflowPrecipitation(), ClimateMachine.Atmos.ImpermeableTracer(), ClimateMachine.TurbulenceConvection.NoTurbConvBC()), ClimateMachine.Atmos.AtmosBC{ClimateMachine.Atmos.Impenetrable{ClimateMachine.Atmos.FreeSlip},ClimateMachine.Atmos.Insulating,ClimateMachine.Atmos.Impermeable,ClimateMachine.Atmos.OutflowPrecipitation,ClimateMachine.Atmos.ImpermeableTracer,ClimateMachine.TurbulenceConvection.NoTurbConvBC}(ClimateMachine.Atmos.Impenetrable{ClimateMachine.Atmos.FreeSlip}(ClimateMachine.Atmos.FreeSlip()), ClimateMachine.Atmos.Insulating(), ClimateMachine.Atmos.Impermeable(), ClimateMachine.Atmos.OutflowPrecipitation(), ClimateMachine.Atmos.ImpermeableTracer(), ClimateMachine.TurbulenceConvection.NoTurbConvBC())), Main.##396.AcousticWaveSetup{Float64}(10000.0, 300.0, 3.0, 100.0, 1), ClimateMachine.Atmos.atmos_problem_init_state_auxiliary)\n",
      "│     orientation = ClimateMachine.Orientations.SphericalOrientation()\n",
      "│     energy = ClimateMachine.Atmos.TotalEnergyModel()\n",
      "│     moisture = ClimateMachine.Atmos.DryModel()\n",
      "│     source = DispatchedTuples.DispatchedTuple{Tuple{Tuple{ClimateMachine.Atmos.Momentum,ClimateMachine.Atmos.Gravity}},DispatchedTuples.NoDefaults} with 1 entries:\n",
      "│   ClimateMachine.Atmos.Momentum() => ClimateMachine.Atmos.Gravity()\n",
      "│   default => ()\n",
      "│ \n",
      "│     data_config = nothing\n",
      "└ @ ClimateMachine /central/scratch/climaci/climatemachine-docs/1178/climatemachine-docs/src/Driver/driver_configs.jl:191\n",
      "\n",
      "PDE: ∂_t Y_i + (∇•F_1(Y))_i + (∇•F_2(Y,G)))_i = (S(Y,G))_i\n",
      "┌──────────┬────────────────────────────┬─────────────────────────────────┬───────────┐\n",
      "│ Equation │           Flux{FirstOrder} │               Flux{SecondOrder} │    Source │\n",
      "│    (Y_i) │                      (F_1) │                           (F_2) │       (S) │\n",
      "├──────────┼────────────────────────────┼─────────────────────────────────┼───────────┤\n",
      "│     Mass │                   (Advect) │                              () │        () │\n",
      "│ Momentum │ (Advect, PressureGradient) │                 (ViscousStress) │ (Gravity) │\n",
      "│   Energy │         (Advect, Pressure) │ (ViscousFlux, DiffEnthalpyFlux) │        () │\n",
      "└──────────┴────────────────────────────┴─────────────────────────────────┴───────────┘\n",
      "\n",
      "┌ Info: Establishing Atmos GCM configuration for GCM Driver: Acoustic wave test\n",
      "│     precision               = Float64\n",
      "│     horiz polynomial order  = 4\n",
      "│     vert polynomial order   = 4\n",
      "│     horiz cutoff order      = nothing\n",
      "│     vert cutoff order       = nothing\n",
      "│     # horiz elem            = 6\n",
      "│     # vert elems            = 4\n",
      "│     domain height           = 1.00e+04 m\n",
      "│     MPI ranks               = 1\n",
      "│     min(Δ_horz)             = 203711.48 m\n",
      "│     min(Δ_vert)             = 431.68 m\n",
      "└ @ ClimateMachine /central/scratch/climaci/climatemachine-docs/1178/climatemachine-docs/src/Driver/driver_configs.jl:425\n",
      "┌ Info: Initializing GCM Driver: Acoustic wave test\n",
      "└ @ ClimateMachine /central/scratch/climaci/climatemachine-docs/1178/climatemachine-docs/src/Driver/solver_configs.jl:169\n",
      "┌ Info: Starting GCM Driver: Acoustic wave test\n",
      "│     dt              = 1.80000e+03\n",
      "│     timeend         =  3600.00\n",
      "│     number of steps = 2\n",
      "│     norm(Q)         = 9.5073559986777641e+13\n",
      "└ @ ClimateMachine /central/scratch/climaci/climatemachine-docs/1178/climatemachine-docs/src/Driver/Driver.jl:802\n",
      "┌ Info: Update\n",
      "│     simtime =  3600.00 /  3600.00\n",
      "│     wallclock = 00:01:30\n",
      "│     efficiency (simtime / wallclock) =  39.8857\n",
      "│     wallclock end (estimated) = 00:01:30\n",
      "│     norm(Q) = 9.5073458796021313e+13\n",
      "└ @ ClimateMachine.Callbacks /central/scratch/climaci/climatemachine-docs/1178/climatemachine-docs/src/Driver/Callbacks/Callbacks.jl:75\n",
      "┌ Info: Finished\n",
      "│     norm(Q)            = 9.5073458796021313e+13\n",
      "│     norm(Q) / norm(Q₀) = 9.9999893565828035e-01\n",
      "│     norm(Q) - norm(Q₀) = -1.0119075632812500e+08\n",
      "└ @ ClimateMachine /central/scratch/climaci/climatemachine-docs/1178/climatemachine-docs/src/Driver/Driver.jl:853\n"
     ]
    }
   ],
   "cell_type": "code",
   "source": [
    "ode_solver = ClimateMachine.MultirateSolverType(\n",
    "    splitting_type = ClimateMachine.HEVISplitting(),\n",
    "    slow_method = LSRK54CarpenterKennedy,\n",
    "    fast_method = ARK2GiraldoKellyConstantinescu,\n",
    "    implicit_solver_adjustable = true,\n",
    "    timestep_ratio = 100,\n",
    ")\n",
    "\n",
    "timeend = FT(3600)\n",
    "CFL = FT(5)\n",
    "cfl_direction = HorizontalDirection()\n",
    "run_acousticwave(ode_solver, CFL, cfl_direction, timeend);"
   ],
   "metadata": {},
   "execution_count": 2
  },
  {
   "cell_type": "markdown",
   "source": [
    "The interested reader can explore the combination of different slow and\n",
    "fast methods for Multirate solvers, consulting the ones available in\n",
    "`ClimateMachine.jl`, such as the\n",
    "`Low-Storage-Runge-Kutta-methods`,\n",
    "`Strong-Stability-Preserving-RungeKutta-methods`,\n",
    "and `Additive-Runge-Kutta-methods`."
   ],
   "metadata": {}
  },
  {
   "cell_type": "markdown",
   "source": [
    "## References\n",
    "- [Giraldo2013](@cite)\n",
    "- [Schlegel2009](@cite)\n",
    "- [Schlegel2012](@cite)"
   ],
   "metadata": {}
  },
  {
   "cell_type": "markdown",
   "source": [
    "---\n",
    "\n",
    "*This notebook was generated using [Literate.jl](https://github.com/fredrikekre/Literate.jl).*"
   ],
   "metadata": {}
  }
 ],
 "nbformat_minor": 3,
 "metadata": {
  "language_info": {
   "file_extension": ".jl",
   "mimetype": "application/julia",
   "name": "julia",
   "version": "1.5.4"
  },
  "kernelspec": {
   "name": "julia-1.5",
   "display_name": "Julia 1.5.4",
   "language": "julia"
  }
 },
 "nbformat": 4
}
