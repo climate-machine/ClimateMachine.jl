{
 "cells": [
  {
   "cell_type": "markdown",
   "source": [
    "# Implicit-Explicit (IMEX) Additively-Partitioned Runge-Kutta Timestepping"
   ],
   "metadata": {}
  },
  {
   "cell_type": "markdown",
   "source": [
    "In this tutorial, we shall explore the use of IMplicit-EXplicit (IMEX) methods\n",
    "for the solution of nonautonomous (or non time-invariant) equations.\n",
    "For our model problem, we shall reuse the acoustic wave test in the GCM\n",
    "configuration. See its code\n",
    "for details on the model and parameters. For the purposes of this tutorial,\n",
    "we will only run the experiment for a total of 3600 simulation seconds.\n",
    "Details on this test case can be found in Sec. 4.3 of [Giraldo2013](@cite)."
   ],
   "metadata": {}
  },
  {
   "outputs": [],
   "cell_type": "code",
   "source": [
    "using ClimateMachine\n",
    "const clima_dir = dirname(dirname(pathof(ClimateMachine)));\n",
    "include(joinpath(\n",
    "    clima_dir,\n",
    "    \"tutorials\",\n",
    "    \"Numerics\",\n",
    "    \"TimeStepping\",\n",
    "    \"tutorial_acousticwave_config.jl\",\n",
    "));"
   ],
   "metadata": {},
   "execution_count": 1
  },
  {
   "cell_type": "markdown",
   "source": [
    "The acoustic wave test case used in this tutorial represents a global-scale\n",
    "problem with inertia-gravity waves traveling around the entire planet.\n",
    "It has a hydrostatically balanced initial state that is given a pressure\n",
    "perturbation.\n",
    "This initial pressure perturbation causes an acoustic wave to travel to\n",
    "the antipode, coalesce, and return to the initial position. The exact solution\n",
    "of this test case is simple in that the (linear) acoustic theory allows one\n",
    "to verify the analytic speed of sound based on the thermodynamics variables.\n",
    "The initial condition is defined as a hydrostatically balanced atmosphere\n",
    "with background (reference) potential temperature."
   ],
   "metadata": {}
  },
  {
   "cell_type": "markdown",
   "source": [
    "To fully demonstrate the advantages of using an IMEX scheme over fully explicit\n",
    "schemes, we start here by going over a simple, fully explicit scheme. The\n",
    "reader can refer to the Single-rate Explicit Timestepping tutorial\n",
    "for detailes on such schemes. Here we use the the 14-stage LSRK method\n",
    "[`LSRK144NiegemannDiehlBusch`]((@ref ClimateMachine.ODESolvers.LSRK144NiegemannDiehlBusch)), which contains the largest stability region of\n",
    "the low-storage methods available in `ClimateMachine.jl`."
   ],
   "metadata": {}
  },
  {
   "outputs": [],
   "cell_type": "code",
   "source": [
    "FT = Float64\n",
    "timeend = FT(100)\n",
    "\n",
    "ode_solver = ClimateMachine.ExplicitSolverType(\n",
    "    solver_method = LSRK144NiegemannDiehlBusch,\n",
    ");"
   ],
   "metadata": {},
   "execution_count": 2
  },
  {
   "cell_type": "markdown",
   "source": [
    "In the following example, the timestep calculation is based on the CFL condition\n",
    "for horizontally-propogating acoustic waves. We use a Courant number ``C = 0.002``\n",
    "(denoted by `CFL` in the code bellow) in the horizontal, which corresponds\n",
    "to a timestep size of approximately ``1`` second."
   ],
   "metadata": {}
  },
  {
   "outputs": [
    {
     "name": "stdout",
     "output_type": "stream",
     "text": [
      "ClimateMachine.array_type() = Array\n",
      "┌ Info: Model composition\n",
      "│     physics = ClimateMachine.Atmos.AtmosPhysics{Float64,Main.##406.EarthParameterSet,ClimateMachine.Atmos.HydrostaticState{ClimateMachine.TemperatureProfiles.DecayingTemperatureProfile{Float64},Float64},ClimateMachine.Atmos.Compressible,ClimateMachine.TurbulenceClosures.ConstantDynamicViscosity{Float64,ClimateMachine.TurbulenceClosures.WithoutDivergence},ClimateMachine.TurbulenceConvection.NoTurbConv,ClimateMachine.TurbulenceClosures.NoHyperDiffusion,ClimateMachine.TurbulenceClosures.NoViscousSponge,ClimateMachine.Atmos.NoPrecipitation,ClimateMachine.Atmos.NoRadiation,ClimateMachine.Atmos.NoTracers,ClimateMachine.Atmos.NoLSForcing}(Main.##406.EarthParameterSet(), ClimateMachine.Atmos.HydrostaticState{ClimateMachine.TemperatureProfiles.DecayingTemperatureProfile{Float64},Float64}(ClimateMachine.TemperatureProfiles.DecayingTemperatureProfile{Float64}(300.0, 300.0, 8776.832091407436), 0.0, true), ClimateMachine.Atmos.Compressible(), ClimateMachine.TurbulenceClosures.ConstantDynamicViscosity{Float64,ClimateMachine.TurbulenceClosures.WithoutDivergence}(0.0, ClimateMachine.TurbulenceClosures.WithoutDivergence()), ClimateMachine.TurbulenceConvection.NoTurbConv(), ClimateMachine.TurbulenceClosures.NoHyperDiffusion(), ClimateMachine.TurbulenceClosures.NoViscousSponge(), ClimateMachine.Atmos.NoPrecipitation(), ClimateMachine.Atmos.NoRadiation(), ClimateMachine.Atmos.NoTracers(), ClimateMachine.Atmos.NoLSForcing())\n",
      "│     problem = ClimateMachine.Atmos.AtmosProblem{Tuple{ClimateMachine.Atmos.AtmosBC{ClimateMachine.Atmos.Impenetrable{ClimateMachine.Atmos.FreeSlip},ClimateMachine.Atmos.Insulating,ClimateMachine.Atmos.Impermeable,ClimateMachine.Atmos.OutflowPrecipitation,ClimateMachine.Atmos.ImpermeableTracer,ClimateMachine.TurbulenceConvection.NoTurbConvBC},ClimateMachine.Atmos.AtmosBC{ClimateMachine.Atmos.Impenetrable{ClimateMachine.Atmos.FreeSlip},ClimateMachine.Atmos.Insulating,ClimateMachine.Atmos.Impermeable,ClimateMachine.Atmos.OutflowPrecipitation,ClimateMachine.Atmos.ImpermeableTracer,ClimateMachine.TurbulenceConvection.NoTurbConvBC}},Main.##406.AcousticWaveSetup{Float64},typeof(ClimateMachine.Atmos.atmos_problem_init_state_auxiliary)}((ClimateMachine.Atmos.AtmosBC{ClimateMachine.Atmos.Impenetrable{ClimateMachine.Atmos.FreeSlip},ClimateMachine.Atmos.Insulating,ClimateMachine.Atmos.Impermeable,ClimateMachine.Atmos.OutflowPrecipitation,ClimateMachine.Atmos.ImpermeableTracer,ClimateMachine.TurbulenceConvection.NoTurbConvBC}(ClimateMachine.Atmos.Impenetrable{ClimateMachine.Atmos.FreeSlip}(ClimateMachine.Atmos.FreeSlip()), ClimateMachine.Atmos.Insulating(), ClimateMachine.Atmos.Impermeable(), ClimateMachine.Atmos.OutflowPrecipitation(), ClimateMachine.Atmos.ImpermeableTracer(), ClimateMachine.TurbulenceConvection.NoTurbConvBC()), ClimateMachine.Atmos.AtmosBC{ClimateMachine.Atmos.Impenetrable{ClimateMachine.Atmos.FreeSlip},ClimateMachine.Atmos.Insulating,ClimateMachine.Atmos.Impermeable,ClimateMachine.Atmos.OutflowPrecipitation,ClimateMachine.Atmos.ImpermeableTracer,ClimateMachine.TurbulenceConvection.NoTurbConvBC}(ClimateMachine.Atmos.Impenetrable{ClimateMachine.Atmos.FreeSlip}(ClimateMachine.Atmos.FreeSlip()), ClimateMachine.Atmos.Insulating(), ClimateMachine.Atmos.Impermeable(), ClimateMachine.Atmos.OutflowPrecipitation(), ClimateMachine.Atmos.ImpermeableTracer(), ClimateMachine.TurbulenceConvection.NoTurbConvBC())), Main.##406.AcousticWaveSetup{Float64}(10000.0, 300.0, 3.0, 100.0, 1), ClimateMachine.Atmos.atmos_problem_init_state_auxiliary)\n",
      "│     orientation = ClimateMachine.Orientations.SphericalOrientation()\n",
      "│     energy = ClimateMachine.Atmos.TotalEnergyModel()\n",
      "│     moisture = ClimateMachine.Atmos.DryModel()\n",
      "│     source = DispatchedTuples.DispatchedTuple{Tuple{Tuple{ClimateMachine.Atmos.Momentum,ClimateMachine.Atmos.Gravity}},DispatchedTuples.NoDefaults} with 1 entries:\n",
      "│   ClimateMachine.Atmos.Momentum() => ClimateMachine.Atmos.Gravity()\n",
      "│   default => ()\n",
      "│ \n",
      "│     data_config = nothing\n",
      "└ @ ClimateMachine /central/scratch/climaci/climatemachine-docs/1178/climatemachine-docs/src/Driver/driver_configs.jl:191\n",
      "\n",
      "PDE: ∂_t Y_i + (∇•F_1(Y))_i + (∇•F_2(Y,G)))_i = (S(Y,G))_i\n",
      "┌──────────┬────────────────────────────┬─────────────────────────────────┬───────────┐\n",
      "│ Equation │           Flux{FirstOrder} │               Flux{SecondOrder} │    Source │\n",
      "│    (Y_i) │                      (F_1) │                           (F_2) │       (S) │\n",
      "├──────────┼────────────────────────────┼─────────────────────────────────┼───────────┤\n",
      "│     Mass │                   (Advect) │                              () │        () │\n",
      "│ Momentum │ (Advect, PressureGradient) │                 (ViscousStress) │ (Gravity) │\n",
      "│   Energy │         (Advect, Pressure) │ (ViscousFlux, DiffEnthalpyFlux) │        () │\n",
      "└──────────┴────────────────────────────┴─────────────────────────────────┴───────────┘\n",
      "\n",
      "┌ Info: Establishing Atmos GCM configuration for GCM Driver: Acoustic wave test\n",
      "│     precision               = Float64\n",
      "│     horiz polynomial order  = 4\n",
      "│     vert polynomial order   = 4\n",
      "│     horiz cutoff order      = nothing\n",
      "│     vert cutoff order       = nothing\n",
      "│     # horiz elem            = 6\n",
      "│     # vert elems            = 4\n",
      "│     domain height           = 1.00e+04 m\n",
      "│     MPI ranks               = 1\n",
      "│     min(Δ_horz)             = 203711.48 m\n",
      "│     min(Δ_vert)             = 431.68 m\n",
      "└ @ ClimateMachine /central/scratch/climaci/climatemachine-docs/1178/climatemachine-docs/src/Driver/driver_configs.jl:425\n",
      "┌ Info: Initializing GCM Driver: Acoustic wave test\n",
      "└ @ ClimateMachine /central/scratch/climaci/climatemachine-docs/1178/climatemachine-docs/src/Driver/solver_configs.jl:169\n",
      "┌ Info: Starting GCM Driver: Acoustic wave test\n",
      "│     dt              = 1.16279e+00\n",
      "│     timeend         =   100.00\n",
      "│     number of steps = 86\n",
      "│     norm(Q)         = 9.5073559986777641e+13\n",
      "└ @ ClimateMachine /central/scratch/climaci/climatemachine-docs/1178/climatemachine-docs/src/Driver/Driver.jl:802\n",
      "┌ Info: Update\n",
      "│     simtime =    50.00 /   100.00\n",
      "│     wallclock = 00:01:00\n",
      "│     efficiency (simtime / wallclock) =   0.8241\n",
      "│     wallclock end (estimated) = 00:02:01\n",
      "│     norm(Q) = 9.5073487454769797e+13\n",
      "└ @ ClimateMachine.Callbacks /central/scratch/climaci/climatemachine-docs/1178/climatemachine-docs/src/Driver/Callbacks/Callbacks.jl:75\n",
      "┌ Info: Finished\n",
      "│     norm(Q)            = 9.5073405874321703e+13\n",
      "│     norm(Q) / norm(Q₀) = 9.9999837901877286e-01\n",
      "│     norm(Q) - norm(Q₀) = -1.5411245593750000e+08\n",
      "└ @ ClimateMachine /central/scratch/climaci/climatemachine-docs/1178/climatemachine-docs/src/Driver/Driver.jl:853\n"
     ]
    }
   ],
   "cell_type": "code",
   "source": [
    "CFL = FT(0.002)\n",
    "cfl_direction = HorizontalDirection()\n",
    "run_acousticwave(ode_solver, CFL, cfl_direction, timeend);"
   ],
   "metadata": {},
   "execution_count": 3
  },
  {
   "cell_type": "markdown",
   "source": [
    "However, as it is imaginable, for real-world climate processes a time step\n",
    "of 1 second would lead to extemely long time-to-solution simulations.\n",
    "How can we do better? To be able to take larger time step, we can treat the\n",
    "most restrictive wave speeds (vertical acoustic) implicitly rather than\n",
    "explicitly. This motivates the use of an IMplicit-EXplicit (IMEX) methods."
   ],
   "metadata": {}
  },
  {
   "cell_type": "markdown",
   "source": [
    "In general, a single step of an ``s``-stage, ``N``-part additive RK method\n",
    "(`ARK_N`) is defined by its generalized Butcher tableau:"
   ],
   "metadata": {}
  },
  {
   "cell_type": "markdown",
   "source": [
    "$$\n",
    "\\begin{align}\n",
    "    \\begin{array}{c|c|c|c}\n",
    "    \\boldsymbol{c} &\\boldsymbol{A}_{1} & \\cdots & \\boldsymbol{A}_{N}\\\\\n",
    "    \\hline\n",
    "    & \\boldsymbol{b}_1^T & \\cdots & \\boldsymbol{b}_N^T\\\\\n",
    "    \\hline\n",
    "    & \\widehat{\\boldsymbol{b}}_1^T & \\cdots & \\widehat{\\boldsymbol{b}}_N^T\n",
    "    \\end{array} =\n",
    "    \\begin{array}{c|c c c | c | c c c }\n",
    "    c_1 & a^{[ 1 ]}_{1,1} & \\cdots & a^{[ 1 ]}_{1,s} & \\cdots\n",
    "    & a^{[ \\nu ]}_{1,1} & \\cdots & a^{[ \\nu ]}_{1,s}\\\\\n",
    "    \\vdots & \\vdots & \\ddots & \\vdots & \\cdots\n",
    "    & \\vdots & \\ddots & \\vdots \\\\\n",
    "    c_s & a^{[ 1 ]}_{s,1} & \\cdots & a^{[ 1 ]}_{s,s} & \\cdots\n",
    "    & a^{[ \\nu ]}_{s,1} & \\cdots & a^{[ \\nu ]}_{s,s}\\\\\n",
    "    \\hline\n",
    "    & b^{[ 1 ]}_1 & \\cdots & b^{[ 1 ]}_s & \\cdots\n",
    "    & b^{[ \\nu ]}_1 & \\cdots & b^{[ \\nu ]}_s\\\\\n",
    "    \\hline\n",
    "    & \\widehat{b}^{[ 1 ]}_1 & \\cdots & \\widehat{b}^{[ 1 ]}_s &\n",
    "    & \\widehat{b}^{[ \\nu ]}_1 & \\cdots & \\widehat{b}^{[ \\nu ]}_s\n",
    "    \\end{array}\n",
    "\\end{align}\n",
    "$$"
   ],
   "metadata": {}
  },
  {
   "cell_type": "markdown",
   "source": [
    "and is given by"
   ],
   "metadata": {}
  },
  {
   "cell_type": "markdown",
   "source": [
    "``\n",
    "\t\\boldsymbol{q}^{n+1} = \\boldsymbol{q}^n + \\Delta t \\left( \\underbrace{\\sum_{i=1}^{s}}_{\\textrm{Stages}} \\underbrace{\\sum_{\\nu=1}^{N}}_{\\textrm{Components}} b_i^{[ \\nu ]} {\\mathcal{T}}^{[ \\nu ]}(\\boldsymbol{Q}^i)) \\right)\n",
    "``"
   ],
   "metadata": {}
  },
  {
   "cell_type": "markdown",
   "source": [
    "where ``s`` denotes the stages and ``N`` the components, and where the stage values are given by:\n",
    "\n",
    "``\n",
    "\t\\boldsymbol{Q}^i = \\boldsymbol{q}^n + \\Delta t \\sum_{j=1}^{s} \\sum_{\\nu = 1}^{N} a_{i,j}^{[ \\nu ]}\n",
    "\t{\\mathcal{T}}^{[ \\nu]}(\\boldsymbol{Q}^j).\n",
    "``\n",
    "\n",
    "Similar to standard RK methods, the stage vectors are approximations to the state at each stage\n",
    "of the ARK method. Moreover, the temporal coefficients ``c_i`` satisfy a similar\n",
    "row-sum condition, holding for all ``\\nu = 1, \\cdots, N``:"
   ],
   "metadata": {}
  },
  {
   "cell_type": "markdown",
   "source": [
    "``\n",
    "\tc_i = \\sum_{j=1}^{s} a_{i, j}^{[ \\nu ]}, \\quad \\forall \\nu = 1, \\cdots, N.\n",
    "``\n",
    "\n",
    "The Butcher coefficients ``\\boldsymbol{c}``, ``\\boldsymbol{b}_{\\nu}``, ``\\boldsymbol{A}_{\\nu}``, and ``\\widehat{\\boldsymbol{b}}_{\\nu}``\n",
    "are constrained by certain accuracy and stability requirements, which are summarized in\n",
    "[Kennedy2001](@cite)."
   ],
   "metadata": {}
  },
  {
   "cell_type": "markdown",
   "source": [
    "A common setting is the case ``N = 2``. This gives the typical context for\n",
    "Implicit-Explicit (IMEX) splitting methods, where the tendency ``{\\mathcal{T}}``\n",
    "is assumed to have the decomposition:\n",
    "\n",
    "``\n",
    "\t\\dot{\\boldsymbol{q}} = \\mathcal{T}(\\boldsymbol{q}) \\equiv\n",
    "\t{\\mathcal{T}}_{s}(\\boldsymbol{q}) + {\\mathcal{T}}_{ns}(\\boldsymbol{q}),\n",
    "``\n",
    "where the right-hand side has been split into a \"stiff\" component ``{\\mathcal{T}}_{s}``,\n",
    "to be treated implicitly, and a non-stiff part ``{\\mathcal{T}}_{ns}`` to be treated explicitly."
   ],
   "metadata": {}
  },
  {
   "cell_type": "markdown",
   "source": [
    "Referencing the canonical form introduced in [Time integration](@ref\n",
    "Time-integration) we have that in this particular forumlation\n",
    "``\\mathcal{T}_{ns}(t, \\boldsymbol{q}) \\equiv \\mathcal{G}(t, \\boldsymbol{q})`` and\n",
    "``\\mathcal{T}_{s}(t, \\boldsymbol{q}) \\equiv \\mathcal{F}(t, \\boldsymbol{q})``."
   ],
   "metadata": {}
  },
  {
   "cell_type": "markdown",
   "source": [
    "Two different RK methods are applied to ``{\\mathcal{T}}_{s}`` and ``{\\mathcal{T}}_{ns}``\n",
    "separately, which have been specifically designed and coupled. Examples can be found in\n",
    "[Giraldo2013](@cite). The Butcher Tableau for an `ARK_2` method will have the\n",
    "form\n",
    "\n",
    "$$\n",
    "\\begin{align}\n",
    "    \\begin{array}{c|c|c}\n",
    "    \\boldsymbol{c} &\\boldsymbol{A}_E &\\boldsymbol{A}_I\\\\\n",
    "    \\hline\n",
    "    & \\boldsymbol{b}_E^T & \\boldsymbol{b}_I^T \\\\\n",
    "    \\hline\n",
    "    & \\widehat{\\boldsymbol{b}}_E^T & \\widehat{\\boldsymbol{b}}_I^T\n",
    "    \\end{array},\n",
    "\\end{align}\n",
    "$$\n",
    "\n",
    "with\n",
    "\n",
    "``\n",
    "\t\\boldsymbol{A}_O = \\left\\lbrace a_{i, j}^O \\right\\rbrace, \\quad\n",
    "\t\\boldsymbol{b}_O = \\left\\lbrace b_{i}^O \\right\\rbrace, \\quad\n",
    "\t\\widehat{\\boldsymbol{b}}_O = \\left\\lbrace \\widehat{b}_{i}^O \\right\\rbrace,\n",
    "``\n",
    "\n",
    "where ``O`` denotes the label (either ``E`` for explicit or ``I`` for implicit)."
   ],
   "metadata": {}
  },
  {
   "cell_type": "markdown",
   "source": [
    "For the acoustic wave example used here, we use 4th order polynomials in\n",
    "our discontinuous Galerkin approximation, with 6 elements in each horizontal\n",
    "direction and 4 elements in the vertical direction, on the cubed-sphere.\n",
    "This gives an effective minimal node-distance (distance between LGL nodes)\n",
    "of roughly 203000 m.\n",
    "As in the previous tutorial,\n",
    "we can determine our ``\\Delta t`` by specifying our desired horizontal\n",
    "Courant number ``C`` (the timestep calculation is based on the CFL condition\n",
    "for horizontally-propogating acoustic waves). In this very simple test case,\n",
    "we can use a value of 0.5, which corresponds to a time-step size of\n",
    "around 257 seconds. But for this particular example, even higher values\n",
    "might work."
   ],
   "metadata": {}
  },
  {
   "outputs": [
    {
     "name": "stdout",
     "output_type": "stream",
     "text": [
      "ClimateMachine.array_type() = Array\n",
      "┌ Info: Model composition\n",
      "│     physics = ClimateMachine.Atmos.AtmosPhysics{Float64,Main.##406.EarthParameterSet,ClimateMachine.Atmos.HydrostaticState{ClimateMachine.TemperatureProfiles.DecayingTemperatureProfile{Float64},Float64},ClimateMachine.Atmos.Compressible,ClimateMachine.TurbulenceClosures.ConstantDynamicViscosity{Float64,ClimateMachine.TurbulenceClosures.WithoutDivergence},ClimateMachine.TurbulenceConvection.NoTurbConv,ClimateMachine.TurbulenceClosures.NoHyperDiffusion,ClimateMachine.TurbulenceClosures.NoViscousSponge,ClimateMachine.Atmos.NoPrecipitation,ClimateMachine.Atmos.NoRadiation,ClimateMachine.Atmos.NoTracers,ClimateMachine.Atmos.NoLSForcing}(Main.##406.EarthParameterSet(), ClimateMachine.Atmos.HydrostaticState{ClimateMachine.TemperatureProfiles.DecayingTemperatureProfile{Float64},Float64}(ClimateMachine.TemperatureProfiles.DecayingTemperatureProfile{Float64}(300.0, 300.0, 8776.832091407436), 0.0, true), ClimateMachine.Atmos.Compressible(), ClimateMachine.TurbulenceClosures.ConstantDynamicViscosity{Float64,ClimateMachine.TurbulenceClosures.WithoutDivergence}(0.0, ClimateMachine.TurbulenceClosures.WithoutDivergence()), ClimateMachine.TurbulenceConvection.NoTurbConv(), ClimateMachine.TurbulenceClosures.NoHyperDiffusion(), ClimateMachine.TurbulenceClosures.NoViscousSponge(), ClimateMachine.Atmos.NoPrecipitation(), ClimateMachine.Atmos.NoRadiation(), ClimateMachine.Atmos.NoTracers(), ClimateMachine.Atmos.NoLSForcing())\n",
      "│     problem = ClimateMachine.Atmos.AtmosProblem{Tuple{ClimateMachine.Atmos.AtmosBC{ClimateMachine.Atmos.Impenetrable{ClimateMachine.Atmos.FreeSlip},ClimateMachine.Atmos.Insulating,ClimateMachine.Atmos.Impermeable,ClimateMachine.Atmos.OutflowPrecipitation,ClimateMachine.Atmos.ImpermeableTracer,ClimateMachine.TurbulenceConvection.NoTurbConvBC},ClimateMachine.Atmos.AtmosBC{ClimateMachine.Atmos.Impenetrable{ClimateMachine.Atmos.FreeSlip},ClimateMachine.Atmos.Insulating,ClimateMachine.Atmos.Impermeable,ClimateMachine.Atmos.OutflowPrecipitation,ClimateMachine.Atmos.ImpermeableTracer,ClimateMachine.TurbulenceConvection.NoTurbConvBC}},Main.##406.AcousticWaveSetup{Float64},typeof(ClimateMachine.Atmos.atmos_problem_init_state_auxiliary)}((ClimateMachine.Atmos.AtmosBC{ClimateMachine.Atmos.Impenetrable{ClimateMachine.Atmos.FreeSlip},ClimateMachine.Atmos.Insulating,ClimateMachine.Atmos.Impermeable,ClimateMachine.Atmos.OutflowPrecipitation,ClimateMachine.Atmos.ImpermeableTracer,ClimateMachine.TurbulenceConvection.NoTurbConvBC}(ClimateMachine.Atmos.Impenetrable{ClimateMachine.Atmos.FreeSlip}(ClimateMachine.Atmos.FreeSlip()), ClimateMachine.Atmos.Insulating(), ClimateMachine.Atmos.Impermeable(), ClimateMachine.Atmos.OutflowPrecipitation(), ClimateMachine.Atmos.ImpermeableTracer(), ClimateMachine.TurbulenceConvection.NoTurbConvBC()), ClimateMachine.Atmos.AtmosBC{ClimateMachine.Atmos.Impenetrable{ClimateMachine.Atmos.FreeSlip},ClimateMachine.Atmos.Insulating,ClimateMachine.Atmos.Impermeable,ClimateMachine.Atmos.OutflowPrecipitation,ClimateMachine.Atmos.ImpermeableTracer,ClimateMachine.TurbulenceConvection.NoTurbConvBC}(ClimateMachine.Atmos.Impenetrable{ClimateMachine.Atmos.FreeSlip}(ClimateMachine.Atmos.FreeSlip()), ClimateMachine.Atmos.Insulating(), ClimateMachine.Atmos.Impermeable(), ClimateMachine.Atmos.OutflowPrecipitation(), ClimateMachine.Atmos.ImpermeableTracer(), ClimateMachine.TurbulenceConvection.NoTurbConvBC())), Main.##406.AcousticWaveSetup{Float64}(10000.0, 300.0, 3.0, 100.0, 1), ClimateMachine.Atmos.atmos_problem_init_state_auxiliary)\n",
      "│     orientation = ClimateMachine.Orientations.SphericalOrientation()\n",
      "│     energy = ClimateMachine.Atmos.TotalEnergyModel()\n",
      "│     moisture = ClimateMachine.Atmos.DryModel()\n",
      "│     source = DispatchedTuples.DispatchedTuple{Tuple{Tuple{ClimateMachine.Atmos.Momentum,ClimateMachine.Atmos.Gravity}},DispatchedTuples.NoDefaults} with 1 entries:\n",
      "│   ClimateMachine.Atmos.Momentum() => ClimateMachine.Atmos.Gravity()\n",
      "│   default => ()\n",
      "│ \n",
      "│     data_config = nothing\n",
      "└ @ ClimateMachine /central/scratch/climaci/climatemachine-docs/1178/climatemachine-docs/src/Driver/driver_configs.jl:191\n",
      "\n",
      "PDE: ∂_t Y_i + (∇•F_1(Y))_i + (∇•F_2(Y,G)))_i = (S(Y,G))_i\n",
      "┌──────────┬────────────────────────────┬─────────────────────────────────┬───────────┐\n",
      "│ Equation │           Flux{FirstOrder} │               Flux{SecondOrder} │    Source │\n",
      "│    (Y_i) │                      (F_1) │                           (F_2) │       (S) │\n",
      "├──────────┼────────────────────────────┼─────────────────────────────────┼───────────┤\n",
      "│     Mass │                   (Advect) │                              () │        () │\n",
      "│ Momentum │ (Advect, PressureGradient) │                 (ViscousStress) │ (Gravity) │\n",
      "│   Energy │         (Advect, Pressure) │ (ViscousFlux, DiffEnthalpyFlux) │        () │\n",
      "└──────────┴────────────────────────────┴─────────────────────────────────┴───────────┘\n",
      "\n",
      "┌ Info: Establishing Atmos GCM configuration for GCM Driver: Acoustic wave test\n",
      "│     precision               = Float64\n",
      "│     horiz polynomial order  = 4\n",
      "│     vert polynomial order   = 4\n",
      "│     horiz cutoff order      = nothing\n",
      "│     vert cutoff order       = nothing\n",
      "│     # horiz elem            = 6\n",
      "│     # vert elems            = 4\n",
      "│     domain height           = 1.00e+04 m\n",
      "│     MPI ranks               = 1\n",
      "│     min(Δ_horz)             = 203711.48 m\n",
      "│     min(Δ_vert)             = 431.68 m\n",
      "└ @ ClimateMachine /central/scratch/climaci/climatemachine-docs/1178/climatemachine-docs/src/Driver/driver_configs.jl:425\n",
      "┌ Info: Initializing GCM Driver: Acoustic wave test\n",
      "└ @ ClimateMachine /central/scratch/climaci/climatemachine-docs/1178/climatemachine-docs/src/Driver/solver_configs.jl:169\n",
      "┌ Info: Starting GCM Driver: Acoustic wave test\n",
      "│     dt              = 2.76923e+02\n",
      "│     timeend         =  3600.00\n",
      "│     number of steps = 13\n",
      "│     norm(Q)         = 9.5073559986777641e+13\n",
      "└ @ ClimateMachine /central/scratch/climaci/climatemachine-docs/1178/climatemachine-docs/src/Driver/Driver.jl:802\n",
      "┌ Info: Finished\n",
      "│     norm(Q)            = 9.5073459060339703e+13\n",
      "│     norm(Q) / norm(Q₀) = 9.9999893843842647e-01\n",
      "│     norm(Q) - norm(Q₀) = -1.0092643793750000e+08\n",
      "└ @ ClimateMachine /central/scratch/climaci/climatemachine-docs/1178/climatemachine-docs/src/Driver/Driver.jl:853\n"
     ]
    }
   ],
   "cell_type": "code",
   "source": [
    "timeend = FT(3600)\n",
    "ode_solver = ClimateMachine.IMEXSolverType(\n",
    "    solver_method = ARK2GiraldoKellyConstantinescu,\n",
    ")\n",
    "CFL = FT(0.5)\n",
    "cfl_direction = HorizontalDirection()\n",
    "run_acousticwave(ode_solver, CFL, cfl_direction, timeend);"
   ],
   "metadata": {},
   "execution_count": 4
  },
  {
   "cell_type": "markdown",
   "source": [
    "## References\n",
    "- [Giraldo2013](@cite)\n",
    "- [Kennedy2001](@cite)"
   ],
   "metadata": {}
  },
  {
   "cell_type": "markdown",
   "source": [
    "---\n",
    "\n",
    "*This notebook was generated using [Literate.jl](https://github.com/fredrikekre/Literate.jl).*"
   ],
   "metadata": {}
  }
 ],
 "nbformat_minor": 3,
 "metadata": {
  "language_info": {
   "file_extension": ".jl",
   "mimetype": "application/julia",
   "name": "julia",
   "version": "1.5.4"
  },
  "kernelspec": {
   "name": "julia-1.5",
   "display_name": "Julia 1.5.4",
   "language": "julia"
  }
 },
 "nbformat": 4
}
