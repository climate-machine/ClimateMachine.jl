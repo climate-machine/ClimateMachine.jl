{
 "cells": [
  {
   "cell_type": "markdown",
   "source": [
    "# Multirate Infinitesimal Step (MIS) Timestepping"
   ],
   "metadata": {}
  },
  {
   "cell_type": "markdown",
   "source": [
    "In this tutorial, we shall explore the use of Multirate Infinitesimal Step\n",
    "(MIS) methods for the solution of nonautonomous (or non time-invariant) equations.\n",
    "For our model problem, we shall reuse the rising thermal bubble\n",
    "tutorial. See its tutorial page\n",
    "for details on the model and parameters. For the purposes of this tutorial,\n",
    "we will only run the experiment for a total of 500 simulation seconds."
   ],
   "metadata": {}
  },
  {
   "outputs": [],
   "cell_type": "code",
   "source": [
    "using ClimateMachine\n",
    "const clima_dir = dirname(dirname(pathof(ClimateMachine)));\n",
    "include(joinpath(\n",
    "    clima_dir,\n",
    "    \"tutorials\",\n",
    "    \"Numerics\",\n",
    "    \"TimeStepping\",\n",
    "    \"tutorial_risingbubble_config.jl\",\n",
    "))\n",
    "\n",
    "FT = Float64;"
   ],
   "metadata": {},
   "execution_count": 1
  },
  {
   "cell_type": "markdown",
   "source": [
    "Referencing the formulation introduced in the previous\n",
    "Multirate RK methods tutorial, we can\n",
    "describe Multirate Infinitesimal Step (MIS) methods by"
   ],
   "metadata": {}
  },
  {
   "cell_type": "markdown",
   "source": [
    "$$\n",
    "\\begin{align}\n",
    "v_i (0)\n",
    "  &= q^n + \\sum_{j=1}^{i-1} \\alpha_{ij} (Q^{(j)} - q^n) \\\\\n",
    "\\frac{dv_i}{d\\tau}\n",
    "  &= \\sum_{j=1}^{i-1} \\frac{\\gamma_{ij}}{d_i \\Delta t} (Q^{(j)} - q^n)\n",
    "    + \\sum_{j=1}^i \\frac{\\beta_{ij}}{d_i} \\mathcal{T}_S (Q^{(j)}, t + \\Delta t c_i)\n",
    "    + \\mathcal{T}_F(v_i, t^n +  \\Delta t \\tilde c_i + \\frac{c_i - \\tilde c_i}{d_i} \\tau),\n",
    "\\quad \\tau \\in [0, \\Delta t d_i] \\\\\n",
    "Q^{(i)} &= v_i(\\Delta t d_i),\n",
    "\\end{align}\n",
    "$$\n",
    "\n",
    "where we have used the the stage values ``Q^{(i)} = v_i(\\tau_i)`` as the\n",
    "solution to the _inner_ ODE problem, ``{\\mathcal{T}_{s}}``\n",
    "for the slow component, and ``{\\mathcal{T}_{f}}` for the fast\n",
    "one, as in the Multirate RK methods tutorial."
   ],
   "metadata": {}
  },
  {
   "cell_type": "markdown",
   "source": [
    "Referencing the canonical form introduced in [Time integration](@ref\n",
    "Time-integration), both ``{\\mathcal{T}_{f}}`` and ``{\\mathcal{T}_{s}}``\n",
    "could be discretized either explicitly or implicitly, hence, they could\n",
    "belong to either ``\\mathcal{F}(t, \\boldsymbol{q})`` or ``\\mathcal{G}(t, \\boldsymbol{q})``\n",
    "term.\n",
    "\n",
    "The method is defined in terms of the lower-triangular matrices ``\\alpha``,\n",
    "``\\beta`` and ``\\gamma``, with ``d_i = \\sum_j \\beta_{ij}``,\n",
    "``c_i = (I - \\alpha - \\gamma)^{-1} d`` and ``\\tilde c = \\alpha c``.\n",
    "More details can be found in [WenschKnothGalant2009](@cite) and\n",
    "[KnothWensch2014](@cite)."
   ],
   "metadata": {}
  },
  {
   "outputs": [
    {
     "name": "stdout",
     "output_type": "stream",
     "text": [
      "ClimateMachine.array_type() = Array\n",
      "┌ Info: Model composition\n",
      "│     physics = ClimateMachine.Atmos.AtmosPhysics{Float64,Main.##486.EarthParameterSet,ClimateMachine.Atmos.HydrostaticState{ClimateMachine.TemperatureProfiles.DryAdiabaticProfile{Float64},Float64},ClimateMachine.Atmos.Compressible,ClimateMachine.TurbulenceClosures.SmagorinskyLilly{Float64},ClimateMachine.TurbulenceConvection.NoTurbConv,ClimateMachine.TurbulenceClosures.NoHyperDiffusion,ClimateMachine.TurbulenceClosures.NoViscousSponge,ClimateMachine.Atmos.NoPrecipitation,ClimateMachine.Atmos.NoRadiation,ClimateMachine.Atmos.NTracers{4,Float64},ClimateMachine.Atmos.NoLSForcing}(Main.##486.EarthParameterSet(), ClimateMachine.Atmos.HydrostaticState{ClimateMachine.TemperatureProfiles.DryAdiabaticProfile{Float64},Float64}(ClimateMachine.TemperatureProfiles.DryAdiabaticProfile{Float64}(300.0, 0.0), 0.0, true), ClimateMachine.Atmos.Compressible(), ClimateMachine.TurbulenceClosures.SmagorinskyLilly{Float64}(0.21), ClimateMachine.TurbulenceConvection.NoTurbConv(), ClimateMachine.TurbulenceClosures.NoHyperDiffusion(), ClimateMachine.TurbulenceClosures.NoViscousSponge(), ClimateMachine.Atmos.NoPrecipitation(), ClimateMachine.Atmos.NoRadiation(), ClimateMachine.Atmos.NTracers{4,Float64}([1.0, 2.0, 3.0, 4.0]), ClimateMachine.Atmos.NoLSForcing())\n",
      "│     problem = ClimateMachine.Atmos.AtmosProblem{Tuple{ClimateMachine.Atmos.AtmosBC{ClimateMachine.Atmos.Impenetrable{ClimateMachine.Atmos.FreeSlip},ClimateMachine.Atmos.Insulating,ClimateMachine.Atmos.Impermeable,ClimateMachine.Atmos.OutflowPrecipitation,ClimateMachine.Atmos.ImpermeableTracer,ClimateMachine.TurbulenceConvection.NoTurbConvBC},ClimateMachine.Atmos.AtmosBC{ClimateMachine.Atmos.Impenetrable{ClimateMachine.Atmos.FreeSlip},ClimateMachine.Atmos.Insulating,ClimateMachine.Atmos.Impermeable,ClimateMachine.Atmos.OutflowPrecipitation,ClimateMachine.Atmos.ImpermeableTracer,ClimateMachine.TurbulenceConvection.NoTurbConvBC}},typeof(Main.##486.init_risingbubble!),typeof(ClimateMachine.Atmos.atmos_problem_init_state_auxiliary)}((ClimateMachine.Atmos.AtmosBC{ClimateMachine.Atmos.Impenetrable{ClimateMachine.Atmos.FreeSlip},ClimateMachine.Atmos.Insulating,ClimateMachine.Atmos.Impermeable,ClimateMachine.Atmos.OutflowPrecipitation,ClimateMachine.Atmos.ImpermeableTracer,ClimateMachine.TurbulenceConvection.NoTurbConvBC}(ClimateMachine.Atmos.Impenetrable{ClimateMachine.Atmos.FreeSlip}(ClimateMachine.Atmos.FreeSlip()), ClimateMachine.Atmos.Insulating(), ClimateMachine.Atmos.Impermeable(), ClimateMachine.Atmos.OutflowPrecipitation(), ClimateMachine.Atmos.ImpermeableTracer(), ClimateMachine.TurbulenceConvection.NoTurbConvBC()), ClimateMachine.Atmos.AtmosBC{ClimateMachine.Atmos.Impenetrable{ClimateMachine.Atmos.FreeSlip},ClimateMachine.Atmos.Insulating,ClimateMachine.Atmos.Impermeable,ClimateMachine.Atmos.OutflowPrecipitation,ClimateMachine.Atmos.ImpermeableTracer,ClimateMachine.TurbulenceConvection.NoTurbConvBC}(ClimateMachine.Atmos.Impenetrable{ClimateMachine.Atmos.FreeSlip}(ClimateMachine.Atmos.FreeSlip()), ClimateMachine.Atmos.Insulating(), ClimateMachine.Atmos.Impermeable(), ClimateMachine.Atmos.OutflowPrecipitation(), ClimateMachine.Atmos.ImpermeableTracer(), ClimateMachine.TurbulenceConvection.NoTurbConvBC())), Main.##486.init_risingbubble!, ClimateMachine.Atmos.atmos_problem_init_state_auxiliary)\n",
      "│     orientation = ClimateMachine.Orientations.FlatOrientation()\n",
      "│     energy = ClimateMachine.Atmos.TotalEnergyModel()\n",
      "│     moisture = ClimateMachine.Atmos.DryModel()\n",
      "│     source = DispatchedTuples.DispatchedTuple{Tuple{Tuple{ClimateMachine.Atmos.Momentum,ClimateMachine.Atmos.Gravity}},DispatchedTuples.NoDefaults} with 1 entries:\n",
      "│   ClimateMachine.Atmos.Momentum() => ClimateMachine.Atmos.Gravity()\n",
      "│   default => ()\n",
      "│ \n",
      "│     data_config = nothing\n",
      "└ @ ClimateMachine /central/scratch/climaci/climatemachine-docs/1178/climatemachine-docs/src/Driver/driver_configs.jl:191\n",
      "\n",
      "PDE: ∂_t Y_i + (∇•F_1(Y))_i + (∇•F_2(Y,G)))_i = (S(Y,G))_i\n",
      "┌────────────┬────────────────────────────┬─────────────────────────────────┬───────────┐\n",
      "│   Equation │           Flux{FirstOrder} │               Flux{SecondOrder} │    Source │\n",
      "│      (Y_i) │                      (F_1) │                           (F_2) │       (S) │\n",
      "├────────────┼────────────────────────────┼─────────────────────────────────┼───────────┤\n",
      "│       Mass │                   (Advect) │                              () │        () │\n",
      "│   Momentum │ (Advect, PressureGradient) │                 (ViscousStress) │ (Gravity) │\n",
      "│     Energy │         (Advect, Pressure) │ (ViscousFlux, DiffEnthalpyFlux) │        () │\n",
      "│ Tracers{4} │                   (Advect) │                     (Diffusion) │        () │\n",
      "└────────────┴────────────────────────────┴─────────────────────────────────┴───────────┘\n",
      "\n",
      "┌ Info: Establishing Atmos LES configuration for DryRisingBubble\n",
      "│     precision               = Float64\n",
      "│     horiz polynomial order  = 4\n",
      "│     vert polynomial order   = 4\n",
      "│     horiz cutoff order      = nothing\n",
      "│     vert cutoff order       = nothing\n",
      "│     domain_min              = 0.00 m, 0.00 m, 0.00 m\n",
      "│     domain_max              = 10000.00 m, 500.00 m, 10000.00 m\n",
      "│     resolution              = 125x125x125\n",
      "│     MPI ranks               = 1\n",
      "│     min(Δ_horz)             = 86.34 m\n",
      "│     min(Δ_vert)             = 86.34 m\n",
      "└ @ ClimateMachine /central/scratch/climaci/climatemachine-docs/1178/climatemachine-docs/src/Driver/driver_configs.jl:297\n",
      "┌ Info: Initializing DryRisingBubble\n",
      "└ @ ClimateMachine /central/scratch/climaci/climatemachine-docs/1178/climatemachine-docs/src/Driver/solver_configs.jl:169\n",
      "solver_config.ode_solver_type = MISSolverType{ClimateMachine.SlowFastSplitting}(ClimateMachine.SlowFastSplitting(), ClimateMachine.Atmos.AtmosAcousticGravityLinearModel, ClimateMachine.ODESolvers.MIS2, ClimateMachine.ODESolvers.LSRK144NiegemannDiehlBusch, (40,), false)\n",
      "┌ Info: Starting DryRisingBubble\n",
      "│     dt              = 4.95050e+00\n",
      "│     timeend         =   500.00\n",
      "│     number of steps = 101\n",
      "│     norm(Q)         = 5.3834517091451416e+09\n",
      "└ @ ClimateMachine /central/scratch/climaci/climatemachine-docs/1178/climatemachine-docs/src/Driver/Driver.jl:802\n",
      "┌ Info: Update\n",
      "│     simtime =    19.80 /   500.00\n",
      "│     wallclock = 00:01:01\n",
      "│     efficiency (simtime / wallclock) =   0.3215\n",
      "│     wallclock end (estimated) = 00:25:55\n",
      "│     norm(Q) = 5.3834022624866009e+09\n",
      "└ @ ClimateMachine.Callbacks /central/scratch/climaci/climatemachine-docs/1178/climatemachine-docs/src/Driver/Callbacks/Callbacks.jl:75\n",
      "┌ Info: Update\n",
      "│     simtime =    64.36 /   500.00\n",
      "│     wallclock = 00:02:02\n",
      "│     efficiency (simtime / wallclock) =   0.5267\n",
      "│     wallclock end (estimated) = 00:15:49\n",
      "│     norm(Q) = 5.3834321179276819e+09\n",
      "└ @ ClimateMachine.Callbacks /central/scratch/climaci/climatemachine-docs/1178/climatemachine-docs/src/Driver/Callbacks/Callbacks.jl:75\n",
      "┌ Info: Update\n",
      "│     simtime =   113.86 /   500.00\n",
      "│     wallclock = 00:03:08\n",
      "│     efficiency (simtime / wallclock) =   0.6043\n",
      "│     wallclock end (estimated) = 00:13:47\n",
      "│     norm(Q) = 5.3834931458682003e+09\n",
      "└ @ ClimateMachine.Callbacks /central/scratch/climaci/climatemachine-docs/1178/climatemachine-docs/src/Driver/Callbacks/Callbacks.jl:75\n",
      "┌ Info: Update\n",
      "│     simtime =   163.37 /   500.00\n",
      "│     wallclock = 00:04:11\n",
      "│     efficiency (simtime / wallclock) =   0.6499\n",
      "│     wallclock end (estimated) = 00:12:49\n",
      "│     norm(Q) = 5.3833673469998293e+09\n",
      "└ @ ClimateMachine.Callbacks /central/scratch/climaci/climatemachine-docs/1178/climatemachine-docs/src/Driver/Callbacks/Callbacks.jl:75\n",
      "┌ Info: Update\n",
      "│     simtime =   212.87 /   500.00\n",
      "│     wallclock = 00:05:15\n",
      "│     efficiency (simtime / wallclock) =   0.6745\n",
      "│     wallclock end (estimated) = 00:12:21\n",
      "│     norm(Q) = 5.3834137121590395e+09\n",
      "└ @ ClimateMachine.Callbacks /central/scratch/climaci/climatemachine-docs/1178/climatemachine-docs/src/Driver/Callbacks/Callbacks.jl:75\n",
      "┌ Info: Update\n",
      "│     simtime =   262.38 /   500.00\n",
      "│     wallclock = 00:06:19\n",
      "│     efficiency (simtime / wallclock) =   0.6907\n",
      "│     wallclock end (estimated) = 00:12:03\n",
      "│     norm(Q) = 5.3835124521920815e+09\n",
      "└ @ ClimateMachine.Callbacks /central/scratch/climaci/climatemachine-docs/1178/climatemachine-docs/src/Driver/Callbacks/Callbacks.jl:75\n",
      "┌ Info: Update\n",
      "│     simtime =   311.88 /   500.00\n",
      "│     wallclock = 00:07:24\n",
      "│     efficiency (simtime / wallclock) =   0.7020\n",
      "│     wallclock end (estimated) = 00:11:52\n",
      "│     norm(Q) = 5.3835522727227592e+09\n",
      "└ @ ClimateMachine.Callbacks /central/scratch/climaci/climatemachine-docs/1178/climatemachine-docs/src/Driver/Callbacks/Callbacks.jl:75\n",
      "┌ Info: Update\n",
      "│     simtime =   361.39 /   500.00\n",
      "│     wallclock = 00:08:28\n",
      "│     efficiency (simtime / wallclock) =   0.7103\n",
      "│     wallclock end (estimated) = 00:11:43\n",
      "│     norm(Q) = 5.3835673808117380e+09\n",
      "└ @ ClimateMachine.Callbacks /central/scratch/climaci/climatemachine-docs/1178/climatemachine-docs/src/Driver/Callbacks/Callbacks.jl:75\n",
      "┌ Info: Update\n",
      "│     simtime =   410.89 /   500.00\n",
      "│     wallclock = 00:09:32\n",
      "│     efficiency (simtime / wallclock) =   0.7171\n",
      "│     wallclock end (estimated) = 00:11:37\n",
      "│     norm(Q) = 5.3834351201073551e+09\n",
      "└ @ ClimateMachine.Callbacks /central/scratch/climaci/climatemachine-docs/1178/climatemachine-docs/src/Driver/Callbacks/Callbacks.jl:75\n",
      "┌ Info: Update\n",
      "│     simtime =   460.40 /   500.00\n",
      "│     wallclock = 00:10:37\n",
      "│     efficiency (simtime / wallclock) =   0.7223\n",
      "│     wallclock end (estimated) = 00:11:32\n",
      "│     norm(Q) = 5.3835391399388475e+09\n",
      "└ @ ClimateMachine.Callbacks /central/scratch/climaci/climatemachine-docs/1178/climatemachine-docs/src/Driver/Callbacks/Callbacks.jl:75\n",
      "┌ Info: Finished\n",
      "│     norm(Q)            = 5.3835509731385708e+09\n",
      "│     norm(Q) / norm(Q₀) = 1.0000184387264515e+00\n",
      "│     norm(Q) - norm(Q₀) = 9.9263993429183960e+04\n",
      "└ @ ClimateMachine /central/scratch/climaci/climatemachine-docs/1178/climatemachine-docs/src/Driver/Driver.jl:853\n",
      "┌ Info: Euclidean distance\n",
      "│     norm(Q - Qe)            = 4.1623723276456207e+07\n",
      "│     norm(Q - Qe) / norm(Qe) = 7.7317909633605299e-03\n",
      "└ @ ClimateMachine /central/scratch/climaci/climatemachine-docs/1178/climatemachine-docs/src/Driver/Driver.jl:869\n"
     ]
    }
   ],
   "cell_type": "code",
   "source": [
    "ode_solver = ClimateMachine.MISSolverType(;\n",
    "    mis_method = MIS2,\n",
    "    fast_method = LSRK144NiegemannDiehlBusch,\n",
    "    nsubsteps = (40,),\n",
    ")\n",
    "\n",
    "timeend = FT(500)\n",
    "CFL = FT(20)\n",
    "run_simulation(ode_solver, CFL, timeend);"
   ],
   "metadata": {},
   "execution_count": 2
  },
  {
   "cell_type": "markdown",
   "source": [
    "The reader can compare the Courant number (denoted by `CFL` in the code snippet)\n",
    "used in this example, with the adopted in the\n",
    "single-rate explicit timestepping tutorial page\n",
    "in which we use the same scheme as the fast method employed in this case,\n",
    "and notice that with this MIS method we are able to take a much larger\n",
    "Courant number."
   ],
   "metadata": {}
  },
  {
   "cell_type": "markdown",
   "source": [
    "## References\n",
    "- [WenschKnothGalant2009](@cite)\n",
    "- [KnothWensch2014](@cite)"
   ],
   "metadata": {}
  },
  {
   "cell_type": "markdown",
   "source": [
    "---\n",
    "\n",
    "*This notebook was generated using [Literate.jl](https://github.com/fredrikekre/Literate.jl).*"
   ],
   "metadata": {}
  }
 ],
 "nbformat_minor": 3,
 "metadata": {
  "language_info": {
   "file_extension": ".jl",
   "mimetype": "application/julia",
   "name": "julia",
   "version": "1.5.4"
  },
  "kernelspec": {
   "name": "julia-1.5",
   "display_name": "Julia 1.5.4",
   "language": "julia"
  }
 },
 "nbformat": 4
}
